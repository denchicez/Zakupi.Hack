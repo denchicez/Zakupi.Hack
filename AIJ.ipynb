{
  "nbformat": 4,
  "nbformat_minor": 0,
  "metadata": {
    "kernelspec": {
      "display_name": "Python 3",
      "language": "python",
      "name": "python3"
    },
    "language_info": {
      "codemirror_mode": {
        "name": "ipython",
        "version": 3
      },
      "file_extension": ".py",
      "mimetype": "text/x-python",
      "name": "python",
      "nbconvert_exporter": "python",
      "pygments_lexer": "ipython3",
      "version": "3.8.3"
    },
    "colab": {
      "name": "AIJ.ipynb",
      "provenance": [],
      "collapsed_sections": [],
      "toc_visible": true
    },
    "accelerator": "GPU"
  },
  "cells": [
    {
      "cell_type": "code",
      "metadata": {
        "id": "9XsVqGeUjo5E",
        "colab": {
          "base_uri": "https://localhost:8080/"
        },
        "outputId": "e2134ee5-7327-4f66-feb9-4c058692c844"
      },
      "source": [
        "import pandas as pd\n",
        "import numpy as np\n",
        "from tqdm import tqdm_notebook\n",
        "import re\n",
        "import warnings\n",
        "from google.colab import drive\n",
        "drive.mount('/content/drive')\n",
        "warnings.filterwarnings('ignore')"
      ],
      "execution_count": null,
      "outputs": [
        {
          "output_type": "stream",
          "text": [
            "Drive already mounted at /content/drive; to attempt to forcibly remount, call drive.mount(\"/content/drive\", force_remount=True).\n"
          ],
          "name": "stdout"
        }
      ]
    },
    {
      "cell_type": "code",
      "metadata": {
        "id": "6wq6ZQMXjo5G"
      },
      "source": [
        "#считывание данных \n",
        "train_data = pd.read_csv(\"../content/drive/MyDrive/Zakupi.hack/train_data.csv\", sep=';')\n",
        "train_labels = pd.read_csv(\"../content/drive/MyDrive/Zakupi.hack/train_labels.csv\", sep=';')\n",
        "test_data = pd.read_csv(\"../content/drive/MyDrive/Zakupi.hack/test_data.csv\", sep=';')"
      ],
      "execution_count": null,
      "outputs": []
    },
    {
      "cell_type": "code",
      "metadata": {
        "id": "Zf5aR69CmbRe"
      },
      "source": [
        "froms = 0\n",
        "tos =  12749"
      ],
      "execution_count": null,
      "outputs": []
    },
    {
      "cell_type": "markdown",
      "metadata": {
        "id": "BikAAbNyik2e"
      },
      "source": [
        "# Cоздание фич и чистка данных"
      ]
    },
    {
      "cell_type": "code",
      "metadata": {
        "id": "SsKnCmZajdjj"
      },
      "source": [
        "features_train = train_data\n",
        "features_test = test_data"
      ],
      "execution_count": null,
      "outputs": []
    },
    {
      "cell_type": "code",
      "metadata": {
        "id": "F0XQW2v58JiA"
      },
      "source": [
        "#Заполнение пропусков строкой 'None'\n",
        "features_train = features_train.fillna(0)\n",
        "features_test = features_test.fillna(0)"
      ],
      "execution_count": null,
      "outputs": []
    },
    {
      "cell_type": "code",
      "metadata": {
        "id": "BKPtp-QDF0fP"
      },
      "source": [
        "# удалим лоты \"подарки\"\n",
        "features_train = features_train[features_train['lot_price'] > 0]\n",
        "features_test = features_test[features_test['lot_price'] > 0]"
      ],
      "execution_count": null,
      "outputs": []
    },
    {
      "cell_type": "code",
      "metadata": {
        "id": "upjTfGNK7Fs-"
      },
      "source": [
        "# текст в число 44fz - 0, 223fz - 1\n",
        "features_train['fz'] = features_train.fz.apply(lambda x: 1 if x == '223fz' else 0)\n",
        "features_test['fz'] = features_test.fz.apply(lambda x: 1 if x == '223fz' else 0)"
      ],
      "execution_count": null,
      "outputs": []
    },
    {
      "cell_type": "markdown",
      "metadata": {
        "id": "aF1ctW9IkDPv"
      },
      "source": [
        "#### Обработка okpd2 и additional_code\n"
      ]
    },
    {
      "cell_type": "code",
      "metadata": {
        "id": "Po1Gh_uikIrv"
      },
      "source": [
        "#объеденим в один столбец okpd2_code и additional_code , т.к. они взаимозаменяют (почти) друг друга. Удалим стобцы, которые объеденяли \n",
        "features_train['okpd2_or_additional_code'] = features_train[['okpd2_code', 'additional_code']].apply(lambda x: x[0] if x[1] == 0 else x[1], axis=1)\n",
        "features_test['okpd2_or_additional_code'] = features_test[['okpd2_code', 'additional_code']].apply(lambda x: x[0] if x[1] == 0 else x[1], axis=1)\n",
        "del features_train['okpd2_code']\n",
        "del features_train['additional_code']\n",
        "del features_test['okpd2_code']\n",
        "del features_test['additional_code']"
      ],
      "execution_count": null,
      "outputs": []
    },
    {
      "cell_type": "code",
      "metadata": {
        "id": "9ee4eccikI20"
      },
      "source": [
        "#поймем что 85% (примерно) не имеет lot_name \n",
        "print(features_train.lot_name.value_counts())\n",
        "print(features_test.lot_name.value_counts())"
      ],
      "execution_count": null,
      "outputs": []
    },
    {
      "cell_type": "code",
      "metadata": {
        "id": "_V4tnXdikI3k"
      },
      "source": [
        "#удалим их\n",
        "del features_test['lot_name']\n",
        "del features_train['lot_name']"
      ],
      "execution_count": null,
      "outputs": []
    },
    {
      "cell_type": "code",
      "metadata": {
        "id": "tGd8f7kU3hD1"
      },
      "source": [
        "features_train['okpd2_main'] = features_train.okpd2_or_additional_code.apply(lambda x: 21 if (x == 'drug' or x=='F') else float(x)*100//100)\n",
        "features_test['okpd2_main']  = features_test.okpd2_or_additional_code.apply(lambda x: 21 if (x == 'drug' or x=='F') else (float(x)*100)//100)"
      ],
      "execution_count": null,
      "outputs": []
    },
    {
      "cell_type": "code",
      "metadata": {
        "id": "sOtwOfH0A8UZ"
      },
      "source": [
        "features_train['okpd2_second'] = features_train.okpd2_or_additional_code.apply(lambda x: 20 if (x == 'drug' or x=='F') else (float(x)*100)%100)\n",
        "features_test['okpd2_second']  = features_test.okpd2_or_additional_code.apply(lambda x: 20 if (x == 'drug' or x=='F') else (float(x)*100)%100)"
      ],
      "execution_count": null,
      "outputs": []
    },
    {
      "cell_type": "code",
      "metadata": {
        "id": "WTWRBC-PJnJr"
      },
      "source": [
        "del features_train['okpd2_or_additional_code']\n",
        "del features_test['okpd2_or_additional_code']"
      ],
      "execution_count": null,
      "outputs": []
    },
    {
      "cell_type": "markdown",
      "metadata": {
        "id": "zLtk9s3Lsqls"
      },
      "source": [
        "\n",
        "Обработка текста"
      ]
    },
    {
      "cell_type": "code",
      "metadata": {
        "id": "XP5X8BX4stUW"
      },
      "source": [
        "# Удаляем текст. Но можно использовать (некоторые) их для определение точного подкласса || не получилось. \n",
        "del features_train['purchase_name']\n",
        "del features_train['okpd2_names']\n",
        "del features_train['item_descriptions']\n",
        "del features_train['additional_code_names']\n",
        "\n",
        "del features_test['additional_code_names']\n",
        "del features_test['purchase_name']\n",
        "del features_test['okpd2_names']\n",
        "del features_test['item_descriptions']"
      ],
      "execution_count": null,
      "outputs": []
    },
    {
      "cell_type": "markdown",
      "metadata": {
        "id": "rX7qJIdjGomy"
      },
      "source": [
        "Дата"
      ]
    },
    {
      "cell_type": "code",
      "metadata": {
        "id": "lDNTYvnXEyzs"
      },
      "source": [
        "features_train['min_publish_date'] = pd.to_datetime(features_train['min_publish_date'], format = '%Y-%m-%d')\n",
        "features_test['min_publish_date'] = pd.to_datetime(features_test['min_publish_date'], format = '%Y-%m-%d')"
      ],
      "execution_count": null,
      "outputs": []
    },
    {
      "cell_type": "code",
      "metadata": {
        "id": "yRN6K-fMF1ox"
      },
      "source": [
        "date_now = pd.Timestamp('20210205')"
      ],
      "execution_count": null,
      "outputs": []
    },
    {
      "cell_type": "code",
      "metadata": {
        "id": "F1DDUBBZEy18"
      },
      "source": [
        "features_train['data_delta'] = (date_now-features_train['min_publish_date']).dt.days\n",
        "features_test['data_delta'] = (date_now-features_test['min_publish_date']).dt.days"
      ],
      "execution_count": null,
      "outputs": []
    },
    {
      "cell_type": "code",
      "metadata": {
        "id": "4JDFu5GCEy4I"
      },
      "source": [
        "del features_train['min_publish_date']\n",
        "del features_test['min_publish_date']"
      ],
      "execution_count": null,
      "outputs": []
    },
    {
      "cell_type": "markdown",
      "metadata": {
        "id": "ODG3cku5rj5X"
      },
      "source": [
        "#### Обработка цены"
      ]
    },
    {
      "cell_type": "code",
      "metadata": {
        "id": "Mn_tFEdzp0aL"
      },
      "source": [
        "import matplotlib.pyplot as plt"
      ],
      "execution_count": null,
      "outputs": []
    },
    {
      "cell_type": "code",
      "metadata": {
        "id": "2G4bOnpbqLgz",
        "colab": {
          "base_uri": "https://localhost:8080/",
          "height": 282
        },
        "outputId": "b38f5895-f093-47d7-9acf-8b3068164f40"
      },
      "source": [
        "#посмотрим зависимость цены на кол-во покупок \n",
        "#Обычно\n",
        "xs_ = list(set(np.around((train_data['lot_price'].dropna() + 1) / 1000000)))\n",
        "ys_ = np.array([sum(np.around((train_data['lot_price'].dropna() + 1) / 1000000) == i) for i in xs_])\n",
        "plt.plot(xs_, ys_)"
      ],
      "execution_count": null,
      "outputs": [
        {
          "output_type": "execute_result",
          "data": {
            "text/plain": [
              "[<matplotlib.lines.Line2D at 0x7f7137dce780>]"
            ]
          },
          "metadata": {
            "tags": []
          },
          "execution_count": 21
        },
        {
          "output_type": "display_data",
          "data": {
            "image/png": "[encoded data removed]",
            "text/plain": [
              "<Figure size 432x288 with 1 Axes>"
            ]
          },
          "metadata": {
            "tags": [],
            "needs_background": "light"
          }
        }
      ]
    },
    {
      "cell_type": "code",
      "metadata": {
        "id": "MEsqhGqarfR8",
        "colab": {
          "base_uri": "https://localhost:8080/",
          "height": 285
        },
        "outputId": "c06796e7-fd32-47e0-e89a-9798b1cd7275"
      },
      "source": [
        "#Логорифмируемая \n",
        "xs = list(set(np.around(2 * np.log(features_train['lot_price'].dropna() + 1))))\n",
        "ys = np.array([sum(np.around(2 * np.log(features_train['lot_price'].dropna() + 1)) == i) for i in xs])\n",
        "plt.plot(xs, ys) "
      ],
      "execution_count": null,
      "outputs": [
        {
          "output_type": "execute_result",
          "data": {
            "text/plain": [
              "[<matplotlib.lines.Line2D at 0x7f71335b4208>]"
            ]
          },
          "metadata": {
            "tags": []
          },
          "execution_count": 22
        },
        {
          "output_type": "display_data",
          "data": {
            "image/png": "[encoded data removed]",
            "text/plain": [
              "<Figure size 432x288 with 1 Axes>"
            ]
          },
          "metadata": {
            "tags": [],
            "needs_background": "light"
          }
        }
      ]
    },
    {
      "cell_type": "code",
      "metadata": {
        "id": "wA5hcUEYpov5"
      },
      "source": [
        "# Лографимуем, так как цена более зависима \n",
        "features_train['log_price'] = features_train['lot_price'].apply(np.log)\n",
        "features_test['log_price'] = features_test['lot_price'].apply(np.log)"
      ],
      "execution_count": null,
      "outputs": []
    },
    {
      "cell_type": "code",
      "metadata": {
        "id": "n1C3u8Pm6Sdm"
      },
      "source": [
        "# максимум, минимум, среднее, медианное значение трейновых фич\n",
        "okpd2_group_train = features_train\n",
        "okpd2_group_train = okpd2_group_train.groupby('okpd2_main').apply(lambda x: [list(x['pn_lot_anon']),list(x['fz']), list(x['region_code']),list(x['lot_price'])]).apply(pd.Series)\n",
        "okpd2_group_train = okpd2_group_train.reset_index()\n",
        "okpd2_group_train.columns = ['okpd2_main', 'participant_pn_lot_anon', 'list_fz', 'list_region_code','lot_price']\n",
        "okpd2_group_train = okpd2_group_train.set_index('okpd2_main')\n",
        "okpd2_groups_train = list(okpd2_group_train.index)\n",
        "okpd2_price_train = pd.DataFrame(index=okpd2_groups_train,columns=[['maximum','minimum','mean','median','std','var']])\n",
        "for i in range(0,len(okpd2_groups_train)):\n",
        "  okpd2_price_train.iloc[i]['maximum'] = max(okpd2_group_train.iloc[i]['lot_price'])\n",
        "  okpd2_price_train.iloc[i]['minimum'] = min(okpd2_group_train.iloc[i]['lot_price'])\n",
        "  okpd2_price_train.iloc[i]['mean'] = np.mean(okpd2_group_train.iloc[i]['lot_price'])\n",
        "  okpd2_price_train.iloc[i]['median'] = np.median(okpd2_group_train.iloc[i]['lot_price'])\n",
        "  okpd2_price_train.iloc[i]['std'] = np.std(okpd2_group_train.iloc[i]['lot_price'])\n",
        "  okpd2_price_train.iloc[i]['var'] = np.var(okpd2_group_train.iloc[i]['lot_price'])"
      ],
      "execution_count": null,
      "outputs": []
    },
    {
      "cell_type": "code",
      "metadata": {
        "id": "1gXizEDJ_LAw"
      },
      "source": [
        "# максимум, минимум, среднее, медианное значение тестовых фич\n",
        "okpd2_group_test = features_test\n",
        "okpd2_group_test = okpd2_group_test.groupby('okpd2_main').apply(lambda x: [list(x['pn_lot_anon']),list(x['fz']), list(x['region_code']),list(x['lot_price'])]).apply(pd.Series)\n",
        "okpd2_group_test = okpd2_group_test.reset_index()\n",
        "okpd2_group_test.columns = ['okpd2_main', 'participant_pn_lot_anon', 'list_fz', 'list_region_code','lot_price']\n",
        "okpd2_group_test = okpd2_group_test.set_index('okpd2_main')\n",
        "okpd2_groups_test = list(okpd2_group_test.index)\n",
        "okpd2_price_test = pd.DataFrame(index=okpd2_groups_test,columns=[['maximum','minimum','mean','median','std','var']])\n",
        "for i in range(0,len(okpd2_groups_test)):\n",
        "  okpd2_price_test.iloc[i]['maximum'] = max(okpd2_group_test.iloc[i]['lot_price'])\n",
        "  okpd2_price_test.iloc[i]['minimum'] = min(okpd2_group_test.iloc[i]['lot_price'])\n",
        "  okpd2_price_test.iloc[i]['mean'] = np.mean(okpd2_group_test.iloc[i]['lot_price'])\n",
        "  okpd2_price_test.iloc[i]['median'] = np.median(okpd2_group_test.iloc[i]['lot_price'])\n",
        "  okpd2_price_test.iloc[i]['std'] = np.std(okpd2_group_test.iloc[i]['lot_price'])\n",
        "  okpd2_price_test.iloc[i]['var'] = np.var(okpd2_group_test.iloc[i]['lot_price'])"
      ],
      "execution_count": null,
      "outputs": []
    },
    {
      "cell_type": "code",
      "metadata": {
        "id": "xAS5k5roHpjK"
      },
      "source": [
        "def mergeTwoByCode(first, second):\n",
        "    result = np.empty([first.shape[0], 6], dtype=float)\n",
        "    find_index = second.index\n",
        "    get = [None] * 100\n",
        "    for i in range(len(second.index)):\n",
        "        get[int(find_index[i])] = second.iloc[i].array\n",
        "    for i in range(len(first.index)):\n",
        "        value = first.iloc[i]['okpd2_main']\n",
        "        result[i] = get[int(value)]\n",
        "    df2 = pd.DataFrame(result, columns=['maximum','minimum','mean','median','std','var'])\n",
        "    return pd.concat([first.reset_index(), df2], axis=1)"
      ],
      "execution_count": null,
      "outputs": []
    },
    {
      "cell_type": "code",
      "metadata": {
        "id": "nlj9zqF4VAJA"
      },
      "source": [
        "features_train = mergeTwoByCode(features_train,okpd2_price_train)"
      ],
      "execution_count": null,
      "outputs": []
    },
    {
      "cell_type": "code",
      "metadata": {
        "id": "TiKWQKbpkBzr"
      },
      "source": [
        "features_test = mergeTwoByCode(features_test,okpd2_price_test)"
      ],
      "execution_count": null,
      "outputs": []
    },
    {
      "cell_type": "code",
      "metadata": {
        "id": "Hd2UQHKwwbWv"
      },
      "source": [
        "# Отличие цены лота от максимума цены для любого лота из okpd2 данного лота\n",
        "features_train['difference_maximum'] = features_train['lot_price']-features_train['maximum']\n",
        "features_test['difference_maximum']  = features_test['lot_price']-features_test['maximum']"
      ],
      "execution_count": null,
      "outputs": []
    },
    {
      "cell_type": "code",
      "metadata": {
        "id": "BZ39vlqswbZP"
      },
      "source": [
        "# Отличие цены лота от минимума цены для любого лота из okpd2 данного лота\n",
        "features_train['difference_minimum'] = features_train['lot_price']-features_train['minimum']\n",
        "features_test['difference_minimum']  = features_test['lot_price']-features_test['minimum']"
      ],
      "execution_count": null,
      "outputs": []
    },
    {
      "cell_type": "code",
      "metadata": {
        "id": "KpayYoBSwbbe"
      },
      "source": [
        "# Отличие цены лота от средней цены для любого лота из okpd2 данного лота\n",
        "features_train['difference_mean'] = features_train['lot_price']-features_train['mean']\n",
        "features_test['difference_mean']  = features_test['lot_price']-features_test['mean']"
      ],
      "execution_count": null,
      "outputs": []
    },
    {
      "cell_type": "code",
      "metadata": {
        "id": "vfJVbOPOwbd0"
      },
      "source": [
        "# Отличие цены лота от медианной цены для любого лота\n",
        "features_train['difference_median'] = features_train['lot_price']-features_train['median']\n",
        "features_test['difference_median']  = features_test['lot_price']-features_test['median']"
      ],
      "execution_count": null,
      "outputs": []
    },
    {
      "cell_type": "code",
      "metadata": {
        "id": "DI553ETFLRs2"
      },
      "source": [
        "# Отличие цены лота от std цены для любого лота\n",
        "features_train['difference_std'] = features_train['lot_price']-features_train['std']\n",
        "features_test['difference_std']  = features_test['lot_price']-features_test['std']"
      ],
      "execution_count": null,
      "outputs": []
    },
    {
      "cell_type": "code",
      "metadata": {
        "id": "mMP1K8gLLRu3"
      },
      "source": [
        "# Отличие цены лота от var цены для любого лота\n",
        "features_train['difference_var'] = features_train['lot_price']-features_train['var']\n",
        "features_test['difference_var']  = features_test['lot_price']-features_test['var']"
      ],
      "execution_count": null,
      "outputs": []
    },
    {
      "cell_type": "code",
      "metadata": {
        "id": "g_2W2E6tk9lL",
        "colab": {
          "base_uri": "https://localhost:8080/",
          "height": 162
        },
        "outputId": "262057ef-28b3-40e1-8eaf-74fbf0077174"
      },
      "source": [
        "features_train.head(3)"
      ],
      "execution_count": null,
      "outputs": [
        {
          "output_type": "execute_result",
          "data": {
            "text/html": [
              "<div>\n",
              "<style scoped>\n",
              "    .dataframe tbody tr th:only-of-type {\n",
              "        vertical-align: middle;\n",
              "    }\n",
              "\n",
              "    .dataframe tbody tr th {\n",
              "        vertical-align: top;\n",
              "    }\n",
              "\n",
              "    .dataframe thead th {\n",
              "        text-align: right;\n",
              "    }\n",
              "</style>\n",
              "<table border=\"1\" class=\"dataframe\">\n",
              "  <thead>\n",
              "    <tr style=\"text-align: right;\">\n",
              "      <th></th>\n",
              "      <th>index</th>\n",
              "      <th>pn_lot_anon</th>\n",
              "      <th>fz</th>\n",
              "      <th>region_code</th>\n",
              "      <th>lot_price</th>\n",
              "      <th>okpd2_main</th>\n",
              "      <th>okpd2_second</th>\n",
              "      <th>data_delta</th>\n",
              "      <th>log_price</th>\n",
              "      <th>maximum</th>\n",
              "      <th>minimum</th>\n",
              "      <th>mean</th>\n",
              "      <th>median</th>\n",
              "      <th>std</th>\n",
              "      <th>var</th>\n",
              "      <th>difference_maximum</th>\n",
              "      <th>difference_minimum</th>\n",
              "      <th>difference_mean</th>\n",
              "      <th>difference_median</th>\n",
              "      <th>difference_std</th>\n",
              "      <th>difference_var</th>\n",
              "    </tr>\n",
              "  </thead>\n",
              "  <tbody>\n",
              "    <tr>\n",
              "      <th>0</th>\n",
              "      <td>0</td>\n",
              "      <td>pn_lot_7031618</td>\n",
              "      <td>0</td>\n",
              "      <td>2</td>\n",
              "      <td>123500.0</td>\n",
              "      <td>69.0</td>\n",
              "      <td>20.0</td>\n",
              "      <td>529</td>\n",
              "      <td>11.723996</td>\n",
              "      <td>4.236000e+08</td>\n",
              "      <td>1.00</td>\n",
              "      <td>3.406165e+06</td>\n",
              "      <td>338200.0</td>\n",
              "      <td>1.685227e+07</td>\n",
              "      <td>2.839989e+14</td>\n",
              "      <td>-4.234765e+08</td>\n",
              "      <td>123499.00</td>\n",
              "      <td>-3.282665e+06</td>\n",
              "      <td>-214700.0</td>\n",
              "      <td>-1.672877e+07</td>\n",
              "      <td>-2.839989e+14</td>\n",
              "    </tr>\n",
              "    <tr>\n",
              "      <th>1</th>\n",
              "      <td>1</td>\n",
              "      <td>pn_lot_7808247</td>\n",
              "      <td>0</td>\n",
              "      <td>2</td>\n",
              "      <td>144000.0</td>\n",
              "      <td>26.0</td>\n",
              "      <td>40.0</td>\n",
              "      <td>696</td>\n",
              "      <td>11.877569</td>\n",
              "      <td>4.334571e+09</td>\n",
              "      <td>546.66</td>\n",
              "      <td>3.071054e+06</td>\n",
              "      <td>315000.0</td>\n",
              "      <td>3.631111e+07</td>\n",
              "      <td>1.318497e+15</td>\n",
              "      <td>-4.334427e+09</td>\n",
              "      <td>143453.34</td>\n",
              "      <td>-2.927054e+06</td>\n",
              "      <td>-171000.0</td>\n",
              "      <td>-3.616711e+07</td>\n",
              "      <td>-1.318497e+15</td>\n",
              "    </tr>\n",
              "    <tr>\n",
              "      <th>2</th>\n",
              "      <td>2</td>\n",
              "      <td>pn_lot_7009496</td>\n",
              "      <td>0</td>\n",
              "      <td>2</td>\n",
              "      <td>124200.0</td>\n",
              "      <td>26.0</td>\n",
              "      <td>20.0</td>\n",
              "      <td>694</td>\n",
              "      <td>11.729648</td>\n",
              "      <td>4.334571e+09</td>\n",
              "      <td>546.66</td>\n",
              "      <td>3.071054e+06</td>\n",
              "      <td>315000.0</td>\n",
              "      <td>3.631111e+07</td>\n",
              "      <td>1.318497e+15</td>\n",
              "      <td>-4.334447e+09</td>\n",
              "      <td>123653.34</td>\n",
              "      <td>-2.946854e+06</td>\n",
              "      <td>-190800.0</td>\n",
              "      <td>-3.618691e+07</td>\n",
              "      <td>-1.318497e+15</td>\n",
              "    </tr>\n",
              "  </tbody>\n",
              "</table>\n",
              "</div>"
            ],
            "text/plain": [
              "   index     pn_lot_anon  fz  ...  difference_median  difference_std  difference_var\n",
              "0      0  pn_lot_7031618   0  ...          -214700.0   -1.672877e+07   -2.839989e+14\n",
              "1      1  pn_lot_7808247   0  ...          -171000.0   -3.616711e+07   -1.318497e+15\n",
              "2      2  pn_lot_7009496   0  ...          -190800.0   -3.618691e+07   -1.318497e+15\n",
              "\n",
              "[3 rows x 21 columns]"
            ]
          },
          "metadata": {
            "tags": []
          },
          "execution_count": 35
        }
      ]
    },
    {
      "cell_type": "code",
      "metadata": {
        "id": "JDhe27yvt45T",
        "colab": {
          "base_uri": "https://localhost:8080/",
          "height": 162
        },
        "outputId": "8cba7d6f-0c0e-4e95-c6fc-50d8748a1699"
      },
      "source": [
        "features_test.head(3)"
      ],
      "execution_count": null,
      "outputs": [
        {
          "output_type": "execute_result",
          "data": {
            "text/html": [
              "<div>\n",
              "<style scoped>\n",
              "    .dataframe tbody tr th:only-of-type {\n",
              "        vertical-align: middle;\n",
              "    }\n",
              "\n",
              "    .dataframe tbody tr th {\n",
              "        vertical-align: top;\n",
              "    }\n",
              "\n",
              "    .dataframe thead th {\n",
              "        text-align: right;\n",
              "    }\n",
              "</style>\n",
              "<table border=\"1\" class=\"dataframe\">\n",
              "  <thead>\n",
              "    <tr style=\"text-align: right;\">\n",
              "      <th></th>\n",
              "      <th>index</th>\n",
              "      <th>pn_lot_anon</th>\n",
              "      <th>fz</th>\n",
              "      <th>region_code</th>\n",
              "      <th>lot_price</th>\n",
              "      <th>okpd2_main</th>\n",
              "      <th>okpd2_second</th>\n",
              "      <th>data_delta</th>\n",
              "      <th>log_price</th>\n",
              "      <th>maximum</th>\n",
              "      <th>minimum</th>\n",
              "      <th>mean</th>\n",
              "      <th>median</th>\n",
              "      <th>std</th>\n",
              "      <th>var</th>\n",
              "      <th>difference_maximum</th>\n",
              "      <th>difference_minimum</th>\n",
              "      <th>difference_mean</th>\n",
              "      <th>difference_median</th>\n",
              "      <th>difference_std</th>\n",
              "      <th>difference_var</th>\n",
              "    </tr>\n",
              "  </thead>\n",
              "  <tbody>\n",
              "    <tr>\n",
              "      <th>0</th>\n",
              "      <td>0</td>\n",
              "      <td>pn_lot_2889061</td>\n",
              "      <td>0</td>\n",
              "      <td>2</td>\n",
              "      <td>135000.00</td>\n",
              "      <td>69.0</td>\n",
              "      <td>20.0</td>\n",
              "      <td>102</td>\n",
              "      <td>11.813030</td>\n",
              "      <td>2.460000e+07</td>\n",
              "      <td>38872.66</td>\n",
              "      <td>2.147561e+06</td>\n",
              "      <td>513333.33</td>\n",
              "      <td>3.690514e+06</td>\n",
              "      <td>1.361990e+13</td>\n",
              "      <td>-2.446500e+07</td>\n",
              "      <td>96127.34</td>\n",
              "      <td>-2.012561e+06</td>\n",
              "      <td>-378333.33</td>\n",
              "      <td>-3.555514e+06</td>\n",
              "      <td>-1.361990e+13</td>\n",
              "    </tr>\n",
              "    <tr>\n",
              "      <th>1</th>\n",
              "      <td>1</td>\n",
              "      <td>pn_lot_5769273</td>\n",
              "      <td>0</td>\n",
              "      <td>2</td>\n",
              "      <td>1474449.27</td>\n",
              "      <td>31.0</td>\n",
              "      <td>0.0</td>\n",
              "      <td>247</td>\n",
              "      <td>14.203795</td>\n",
              "      <td>9.720704e+07</td>\n",
              "      <td>4640.00</td>\n",
              "      <td>1.496817e+06</td>\n",
              "      <td>422826.70</td>\n",
              "      <td>4.764893e+06</td>\n",
              "      <td>2.270421e+13</td>\n",
              "      <td>-9.573259e+07</td>\n",
              "      <td>1469809.27</td>\n",
              "      <td>-2.236807e+04</td>\n",
              "      <td>1051622.57</td>\n",
              "      <td>-3.290444e+06</td>\n",
              "      <td>-2.270421e+13</td>\n",
              "    </tr>\n",
              "    <tr>\n",
              "      <th>2</th>\n",
              "      <td>2</td>\n",
              "      <td>pn_lot_3605798</td>\n",
              "      <td>0</td>\n",
              "      <td>2</td>\n",
              "      <td>1053275.46</td>\n",
              "      <td>58.0</td>\n",
              "      <td>20.0</td>\n",
              "      <td>247</td>\n",
              "      <td>13.867415</td>\n",
              "      <td>6.132701e+08</td>\n",
              "      <td>1343.75</td>\n",
              "      <td>1.958969e+06</td>\n",
              "      <td>179866.66</td>\n",
              "      <td>2.077051e+07</td>\n",
              "      <td>4.314139e+14</td>\n",
              "      <td>-6.122169e+08</td>\n",
              "      <td>1051931.71</td>\n",
              "      <td>-9.056938e+05</td>\n",
              "      <td>873408.80</td>\n",
              "      <td>-1.971723e+07</td>\n",
              "      <td>-4.314139e+14</td>\n",
              "    </tr>\n",
              "  </tbody>\n",
              "</table>\n",
              "</div>"
            ],
            "text/plain": [
              "   index     pn_lot_anon  fz  ...  difference_median  difference_std  difference_var\n",
              "0      0  pn_lot_2889061   0  ...         -378333.33   -3.555514e+06   -1.361990e+13\n",
              "1      1  pn_lot_5769273   0  ...         1051622.57   -3.290444e+06   -2.270421e+13\n",
              "2      2  pn_lot_3605798   0  ...          873408.80   -1.971723e+07   -4.314139e+14\n",
              "\n",
              "[3 rows x 21 columns]"
            ]
          },
          "metadata": {
            "tags": []
          },
          "execution_count": 36
        }
      ]
    },
    {
      "cell_type": "code",
      "metadata": {
        "id": "ZZl20z1EuOqm"
      },
      "source": [
        "del features_train['index']\n",
        "del features_test['index']"
      ],
      "execution_count": null,
      "outputs": []
    },
    {
      "cell_type": "markdown",
      "metadata": {
        "id": "Jjo01lHZjo5H"
      },
      "source": [
        "<hr>"
      ]
    },
    {
      "cell_type": "markdown",
      "metadata": {
        "id": "jzN6afeQjo5J"
      },
      "source": [
        "#### Формирование описания тендера"
      ]
    },
    {
      "cell_type": "code",
      "metadata": {
        "id": "2WQD7401EfgU"
      },
      "source": [
        "#все инн\n",
        "inn_kpps = set(train_labels['participant_inn_kpp_anon'])\n",
        "#все лоты\n",
        "pn_lots = set(train_data['pn_lot_anon'])"
      ],
      "execution_count": null,
      "outputs": []
    },
    {
      "cell_type": "code",
      "metadata": {
        "id": "dMJ6WVS7p13C"
      },
      "source": [
        "inn_kpp_history_train = pd.merge(train_labels, features_train[['pn_lot_anon','region_code', 'okpd2_main']], on=['pn_lot_anon'])\n",
        "inn_kpp_history_train = inn_kpp_history_train.groupby('participant_inn_kpp_anon').apply(lambda x: [list(x['pn_lot_anon']),list(x['is_winner']), list(x['fz']), list(x['region_code']), list(x['okpd2_main'])]).apply(pd.Series)\n",
        "inn_kpp_history_train = inn_kpp_history_train.reset_index()\n",
        "inn_kpp_history_train.columns = ['participant_pn_lot_anon', 'list_participant_inn_kpp_anon','list_is_winner', 'list_fz', 'list_region_code','list_okpd2_main']"
      ],
      "execution_count": null,
      "outputs": []
    },
    {
      "cell_type": "code",
      "metadata": {
        "id": "zEdgozpLhSP3"
      },
      "source": [
        "features_train = features_train.set_index('pn_lot_anon')\n",
        "features_test = features_test.set_index('pn_lot_anon')"
      ],
      "execution_count": null,
      "outputs": []
    },
    {
      "cell_type": "markdown",
      "metadata": {
        "id": "jiNLRUzqzLhm"
      },
      "source": [
        "Смотрим на данные, все проверяем\n"
      ]
    },
    {
      "cell_type": "code",
      "metadata": {
        "id": "13SZgiZ3zKgH",
        "colab": {
          "base_uri": "https://localhost:8080/",
          "height": 470
        },
        "outputId": "3d0277be-598a-40c8-eaea-13c3290b258c"
      },
      "source": [
        "features_train"
      ],
      "execution_count": null,
      "outputs": [
        {
          "output_type": "execute_result",
          "data": {
            "text/html": [
              "<div>\n",
              "<style scoped>\n",
              "    .dataframe tbody tr th:only-of-type {\n",
              "        vertical-align: middle;\n",
              "    }\n",
              "\n",
              "    .dataframe tbody tr th {\n",
              "        vertical-align: top;\n",
              "    }\n",
              "\n",
              "    .dataframe thead th {\n",
              "        text-align: right;\n",
              "    }\n",
              "</style>\n",
              "<table border=\"1\" class=\"dataframe\">\n",
              "  <thead>\n",
              "    <tr style=\"text-align: right;\">\n",
              "      <th></th>\n",
              "      <th>fz</th>\n",
              "      <th>region_code</th>\n",
              "      <th>lot_price</th>\n",
              "      <th>okpd2_main</th>\n",
              "      <th>okpd2_second</th>\n",
              "      <th>data_delta</th>\n",
              "      <th>log_price</th>\n",
              "      <th>maximum</th>\n",
              "      <th>minimum</th>\n",
              "      <th>mean</th>\n",
              "      <th>median</th>\n",
              "      <th>std</th>\n",
              "      <th>var</th>\n",
              "      <th>difference_maximum</th>\n",
              "      <th>difference_minimum</th>\n",
              "      <th>difference_mean</th>\n",
              "      <th>difference_median</th>\n",
              "      <th>difference_std</th>\n",
              "      <th>difference_var</th>\n",
              "    </tr>\n",
              "    <tr>\n",
              "      <th>pn_lot_anon</th>\n",
              "      <th></th>\n",
              "      <th></th>\n",
              "      <th></th>\n",
              "      <th></th>\n",
              "      <th></th>\n",
              "      <th></th>\n",
              "      <th></th>\n",
              "      <th></th>\n",
              "      <th></th>\n",
              "      <th></th>\n",
              "      <th></th>\n",
              "      <th></th>\n",
              "      <th></th>\n",
              "      <th></th>\n",
              "      <th></th>\n",
              "      <th></th>\n",
              "      <th></th>\n",
              "      <th></th>\n",
              "      <th></th>\n",
              "    </tr>\n",
              "  </thead>\n",
              "  <tbody>\n",
              "    <tr>\n",
              "      <th>pn_lot_7031618</th>\n",
              "      <td>0</td>\n",
              "      <td>2</td>\n",
              "      <td>123500.0</td>\n",
              "      <td>69.0</td>\n",
              "      <td>20.0</td>\n",
              "      <td>529</td>\n",
              "      <td>11.723996</td>\n",
              "      <td>4.236000e+08</td>\n",
              "      <td>1.00</td>\n",
              "      <td>3.406165e+06</td>\n",
              "      <td>338200.0</td>\n",
              "      <td>1.685227e+07</td>\n",
              "      <td>2.839989e+14</td>\n",
              "      <td>-4.234765e+08</td>\n",
              "      <td>123499.00</td>\n",
              "      <td>-3.282665e+06</td>\n",
              "      <td>-214700.0</td>\n",
              "      <td>-1.672877e+07</td>\n",
              "      <td>-2.839989e+14</td>\n",
              "    </tr>\n",
              "    <tr>\n",
              "      <th>pn_lot_7808247</th>\n",
              "      <td>0</td>\n",
              "      <td>2</td>\n",
              "      <td>144000.0</td>\n",
              "      <td>26.0</td>\n",
              "      <td>40.0</td>\n",
              "      <td>696</td>\n",
              "      <td>11.877569</td>\n",
              "      <td>4.334571e+09</td>\n",
              "      <td>546.66</td>\n",
              "      <td>3.071054e+06</td>\n",
              "      <td>315000.0</td>\n",
              "      <td>3.631111e+07</td>\n",
              "      <td>1.318497e+15</td>\n",
              "      <td>-4.334427e+09</td>\n",
              "      <td>143453.34</td>\n",
              "      <td>-2.927054e+06</td>\n",
              "      <td>-171000.0</td>\n",
              "      <td>-3.616711e+07</td>\n",
              "      <td>-1.318497e+15</td>\n",
              "    </tr>\n",
              "    <tr>\n",
              "      <th>pn_lot_7009496</th>\n",
              "      <td>0</td>\n",
              "      <td>2</td>\n",
              "      <td>124200.0</td>\n",
              "      <td>26.0</td>\n",
              "      <td>20.0</td>\n",
              "      <td>694</td>\n",
              "      <td>11.729648</td>\n",
              "      <td>4.334571e+09</td>\n",
              "      <td>546.66</td>\n",
              "      <td>3.071054e+06</td>\n",
              "      <td>315000.0</td>\n",
              "      <td>3.631111e+07</td>\n",
              "      <td>1.318497e+15</td>\n",
              "      <td>-4.334447e+09</td>\n",
              "      <td>123653.34</td>\n",
              "      <td>-2.946854e+06</td>\n",
              "      <td>-190800.0</td>\n",
              "      <td>-3.618691e+07</td>\n",
              "      <td>-1.318497e+15</td>\n",
              "    </tr>\n",
              "    <tr>\n",
              "      <th>pn_lot_5938735</th>\n",
              "      <td>0</td>\n",
              "      <td>2</td>\n",
              "      <td>50000.0</td>\n",
              "      <td>46.0</td>\n",
              "      <td>50.0</td>\n",
              "      <td>694</td>\n",
              "      <td>10.819778</td>\n",
              "      <td>3.728994e+10</td>\n",
              "      <td>0.01</td>\n",
              "      <td>1.073102e+07</td>\n",
              "      <td>631957.5</td>\n",
              "      <td>3.665663e+08</td>\n",
              "      <td>1.343708e+17</td>\n",
              "      <td>-3.728989e+10</td>\n",
              "      <td>49999.99</td>\n",
              "      <td>-1.068102e+07</td>\n",
              "      <td>-581957.5</td>\n",
              "      <td>-3.665163e+08</td>\n",
              "      <td>-1.343708e+17</td>\n",
              "    </tr>\n",
              "    <tr>\n",
              "      <th>pn_lot_9327348</th>\n",
              "      <td>0</td>\n",
              "      <td>2</td>\n",
              "      <td>493441.0</td>\n",
              "      <td>26.0</td>\n",
              "      <td>20.0</td>\n",
              "      <td>590</td>\n",
              "      <td>13.109159</td>\n",
              "      <td>4.334571e+09</td>\n",
              "      <td>546.66</td>\n",
              "      <td>3.071054e+06</td>\n",
              "      <td>315000.0</td>\n",
              "      <td>3.631111e+07</td>\n",
              "      <td>1.318497e+15</td>\n",
              "      <td>-4.334078e+09</td>\n",
              "      <td>492894.34</td>\n",
              "      <td>-2.577613e+06</td>\n",
              "      <td>178441.0</td>\n",
              "      <td>-3.581767e+07</td>\n",
              "      <td>-1.318497e+15</td>\n",
              "    </tr>\n",
              "    <tr>\n",
              "      <th>...</th>\n",
              "      <td>...</td>\n",
              "      <td>...</td>\n",
              "      <td>...</td>\n",
              "      <td>...</td>\n",
              "      <td>...</td>\n",
              "      <td>...</td>\n",
              "      <td>...</td>\n",
              "      <td>...</td>\n",
              "      <td>...</td>\n",
              "      <td>...</td>\n",
              "      <td>...</td>\n",
              "      <td>...</td>\n",
              "      <td>...</td>\n",
              "      <td>...</td>\n",
              "      <td>...</td>\n",
              "      <td>...</td>\n",
              "      <td>...</td>\n",
              "      <td>...</td>\n",
              "      <td>...</td>\n",
              "    </tr>\n",
              "    <tr>\n",
              "      <th>pn_lot_2387328</th>\n",
              "      <td>0</td>\n",
              "      <td>44</td>\n",
              "      <td>100.0</td>\n",
              "      <td>6.0</td>\n",
              "      <td>10.0</td>\n",
              "      <td>708</td>\n",
              "      <td>4.605170</td>\n",
              "      <td>2.256641e+08</td>\n",
              "      <td>1.00</td>\n",
              "      <td>5.562163e+06</td>\n",
              "      <td>364000.0</td>\n",
              "      <td>3.037365e+07</td>\n",
              "      <td>9.225585e+14</td>\n",
              "      <td>-2.256640e+08</td>\n",
              "      <td>99.00</td>\n",
              "      <td>-5.562063e+06</td>\n",
              "      <td>-363900.0</td>\n",
              "      <td>-3.037355e+07</td>\n",
              "      <td>-9.225585e+14</td>\n",
              "    </tr>\n",
              "    <tr>\n",
              "      <th>pn_lot_2416734</th>\n",
              "      <td>0</td>\n",
              "      <td>44</td>\n",
              "      <td>100.0</td>\n",
              "      <td>6.0</td>\n",
              "      <td>10.0</td>\n",
              "      <td>703</td>\n",
              "      <td>4.605170</td>\n",
              "      <td>2.256641e+08</td>\n",
              "      <td>1.00</td>\n",
              "      <td>5.562163e+06</td>\n",
              "      <td>364000.0</td>\n",
              "      <td>3.037365e+07</td>\n",
              "      <td>9.225585e+14</td>\n",
              "      <td>-2.256640e+08</td>\n",
              "      <td>99.00</td>\n",
              "      <td>-5.562063e+06</td>\n",
              "      <td>-363900.0</td>\n",
              "      <td>-3.037355e+07</td>\n",
              "      <td>-9.225585e+14</td>\n",
              "    </tr>\n",
              "    <tr>\n",
              "      <th>pn_lot_1607958</th>\n",
              "      <td>0</td>\n",
              "      <td>44</td>\n",
              "      <td>100.0</td>\n",
              "      <td>6.0</td>\n",
              "      <td>10.0</td>\n",
              "      <td>689</td>\n",
              "      <td>4.605170</td>\n",
              "      <td>2.256641e+08</td>\n",
              "      <td>1.00</td>\n",
              "      <td>5.562163e+06</td>\n",
              "      <td>364000.0</td>\n",
              "      <td>3.037365e+07</td>\n",
              "      <td>9.225585e+14</td>\n",
              "      <td>-2.256640e+08</td>\n",
              "      <td>99.00</td>\n",
              "      <td>-5.562063e+06</td>\n",
              "      <td>-363900.0</td>\n",
              "      <td>-3.037355e+07</td>\n",
              "      <td>-9.225585e+14</td>\n",
              "    </tr>\n",
              "    <tr>\n",
              "      <th>pn_lot_8820511</th>\n",
              "      <td>0</td>\n",
              "      <td>44</td>\n",
              "      <td>100.0</td>\n",
              "      <td>6.0</td>\n",
              "      <td>10.0</td>\n",
              "      <td>680</td>\n",
              "      <td>4.605170</td>\n",
              "      <td>2.256641e+08</td>\n",
              "      <td>1.00</td>\n",
              "      <td>5.562163e+06</td>\n",
              "      <td>364000.0</td>\n",
              "      <td>3.037365e+07</td>\n",
              "      <td>9.225585e+14</td>\n",
              "      <td>-2.256640e+08</td>\n",
              "      <td>99.00</td>\n",
              "      <td>-5.562063e+06</td>\n",
              "      <td>-363900.0</td>\n",
              "      <td>-3.037355e+07</td>\n",
              "      <td>-9.225585e+14</td>\n",
              "    </tr>\n",
              "    <tr>\n",
              "      <th>pn_lot_2852669</th>\n",
              "      <td>0</td>\n",
              "      <td>44</td>\n",
              "      <td>25000.0</td>\n",
              "      <td>62.0</td>\n",
              "      <td>0.0</td>\n",
              "      <td>586</td>\n",
              "      <td>10.126631</td>\n",
              "      <td>1.500000e+10</td>\n",
              "      <td>2833.33</td>\n",
              "      <td>1.078556e+07</td>\n",
              "      <td>305978.8</td>\n",
              "      <td>1.694074e+08</td>\n",
              "      <td>2.869887e+16</td>\n",
              "      <td>-1.499998e+10</td>\n",
              "      <td>22166.67</td>\n",
              "      <td>-1.076056e+07</td>\n",
              "      <td>-280978.8</td>\n",
              "      <td>-1.693824e+08</td>\n",
              "      <td>-2.869887e+16</td>\n",
              "    </tr>\n",
              "  </tbody>\n",
              "</table>\n",
              "<p>778121 rows × 19 columns</p>\n",
              "</div>"
            ],
            "text/plain": [
              "                fz  region_code  ...  difference_std  difference_var\n",
              "pn_lot_anon                      ...                                \n",
              "pn_lot_7031618   0            2  ...   -1.672877e+07   -2.839989e+14\n",
              "pn_lot_7808247   0            2  ...   -3.616711e+07   -1.318497e+15\n",
              "pn_lot_7009496   0            2  ...   -3.618691e+07   -1.318497e+15\n",
              "pn_lot_5938735   0            2  ...   -3.665163e+08   -1.343708e+17\n",
              "pn_lot_9327348   0            2  ...   -3.581767e+07   -1.318497e+15\n",
              "...             ..          ...  ...             ...             ...\n",
              "pn_lot_2387328   0           44  ...   -3.037355e+07   -9.225585e+14\n",
              "pn_lot_2416734   0           44  ...   -3.037355e+07   -9.225585e+14\n",
              "pn_lot_1607958   0           44  ...   -3.037355e+07   -9.225585e+14\n",
              "pn_lot_8820511   0           44  ...   -3.037355e+07   -9.225585e+14\n",
              "pn_lot_2852669   0           44  ...   -1.693824e+08   -2.869887e+16\n",
              "\n",
              "[778121 rows x 19 columns]"
            ]
          },
          "metadata": {
            "tags": []
          },
          "execution_count": 41
        }
      ]
    },
    {
      "cell_type": "markdown",
      "metadata": {
        "id": "2c2RQbNCyzVd"
      },
      "source": [
        "# Классификация и тренировка для каждой организации отдельно"
      ]
    },
    {
      "cell_type": "code",
      "metadata": {
        "id": "CCM4zhKoy_qx",
        "colab": {
          "base_uri": "https://localhost:8080/"
        },
        "outputId": "f34d754f-3ef6-404f-96fe-cde5bff41311"
      },
      "source": [
        "# Скачиваем библиотеки \n",
        "!pip install catboost\n",
        "import sklearn\n",
        "from sklearn.model_selection import train_test_split\n",
        "import time\n",
        "import random\n",
        "from catboost import CatBoostClassifier, Pool"
      ],
      "execution_count": null,
      "outputs": [
        {
          "output_type": "stream",
          "text": [
            "Requirement already satisfied: catboost in /usr/local/lib/python3.6/dist-packages (0.24.4)\n",
            "Requirement already satisfied: graphviz in /usr/local/lib/python3.6/dist-packages (from catboost) (0.10.1)\n",
            "Requirement already satisfied: plotly in /usr/local/lib/python3.6/dist-packages (from catboost) (4.4.1)\n",
            "Requirement already satisfied: scipy in /usr/local/lib/python3.6/dist-packages (from catboost) (1.4.1)\n",
            "Requirement already satisfied: pandas>=0.24.0 in /usr/local/lib/python3.6/dist-packages (from catboost) (1.1.5)\n",
            "Requirement already satisfied: matplotlib in /usr/local/lib/python3.6/dist-packages (from catboost) (3.2.2)\n",
            "Requirement already satisfied: numpy>=1.16.0 in /usr/local/lib/python3.6/dist-packages (from catboost) (1.19.5)\n",
            "Requirement already satisfied: six in /usr/local/lib/python3.6/dist-packages (from catboost) (1.15.0)\n",
            "Requirement already satisfied: retrying>=1.3.3 in /usr/local/lib/python3.6/dist-packages (from plotly->catboost) (1.3.3)\n",
            "Requirement already satisfied: pytz>=2017.2 in /usr/local/lib/python3.6/dist-packages (from pandas>=0.24.0->catboost) (2018.9)\n",
            "Requirement already satisfied: python-dateutil>=2.7.3 in /usr/local/lib/python3.6/dist-packages (from pandas>=0.24.0->catboost) (2.8.1)\n",
            "Requirement already satisfied: pyparsing!=2.0.4,!=2.1.2,!=2.1.6,>=2.0.1 in /usr/local/lib/python3.6/dist-packages (from matplotlib->catboost) (2.4.7)\n",
            "Requirement already satisfied: cycler>=0.10 in /usr/local/lib/python3.6/dist-packages (from matplotlib->catboost) (0.10.0)\n",
            "Requirement already satisfied: kiwisolver>=1.0.1 in /usr/local/lib/python3.6/dist-packages (from matplotlib->catboost) (1.3.1)\n"
          ],
          "name": "stdout"
        }
      ]
    },
    {
      "cell_type": "code",
      "metadata": {
        "id": "YH3y_6RiNaPV",
        "colab": {
          "base_uri": "https://localhost:8080/",
          "height": 470
        },
        "outputId": "0c6bfe25-d36c-4135-a39b-3afa35c88c21"
      },
      "source": [
        "features_train"
      ],
      "execution_count": null,
      "outputs": [
        {
          "output_type": "execute_result",
          "data": {
            "text/html": [
              "<div>\n",
              "<style scoped>\n",
              "    .dataframe tbody tr th:only-of-type {\n",
              "        vertical-align: middle;\n",
              "    }\n",
              "\n",
              "    .dataframe tbody tr th {\n",
              "        vertical-align: top;\n",
              "    }\n",
              "\n",
              "    .dataframe thead th {\n",
              "        text-align: right;\n",
              "    }\n",
              "</style>\n",
              "<table border=\"1\" class=\"dataframe\">\n",
              "  <thead>\n",
              "    <tr style=\"text-align: right;\">\n",
              "      <th></th>\n",
              "      <th>fz</th>\n",
              "      <th>region_code</th>\n",
              "      <th>lot_price</th>\n",
              "      <th>okpd2_main</th>\n",
              "      <th>okpd2_second</th>\n",
              "      <th>data_delta</th>\n",
              "      <th>log_price</th>\n",
              "      <th>maximum</th>\n",
              "      <th>minimum</th>\n",
              "      <th>mean</th>\n",
              "      <th>median</th>\n",
              "      <th>std</th>\n",
              "      <th>var</th>\n",
              "      <th>difference_maximum</th>\n",
              "      <th>difference_minimum</th>\n",
              "      <th>difference_mean</th>\n",
              "      <th>difference_median</th>\n",
              "      <th>difference_std</th>\n",
              "      <th>difference_var</th>\n",
              "    </tr>\n",
              "    <tr>\n",
              "      <th>pn_lot_anon</th>\n",
              "      <th></th>\n",
              "      <th></th>\n",
              "      <th></th>\n",
              "      <th></th>\n",
              "      <th></th>\n",
              "      <th></th>\n",
              "      <th></th>\n",
              "      <th></th>\n",
              "      <th></th>\n",
              "      <th></th>\n",
              "      <th></th>\n",
              "      <th></th>\n",
              "      <th></th>\n",
              "      <th></th>\n",
              "      <th></th>\n",
              "      <th></th>\n",
              "      <th></th>\n",
              "      <th></th>\n",
              "      <th></th>\n",
              "    </tr>\n",
              "  </thead>\n",
              "  <tbody>\n",
              "    <tr>\n",
              "      <th>pn_lot_7031618</th>\n",
              "      <td>0</td>\n",
              "      <td>2</td>\n",
              "      <td>123500.0</td>\n",
              "      <td>69.0</td>\n",
              "      <td>20.0</td>\n",
              "      <td>529</td>\n",
              "      <td>11.723996</td>\n",
              "      <td>4.236000e+08</td>\n",
              "      <td>1.00</td>\n",
              "      <td>3.406165e+06</td>\n",
              "      <td>338200.0</td>\n",
              "      <td>1.685227e+07</td>\n",
              "      <td>2.839989e+14</td>\n",
              "      <td>-4.234765e+08</td>\n",
              "      <td>123499.00</td>\n",
              "      <td>-3.282665e+06</td>\n",
              "      <td>-214700.0</td>\n",
              "      <td>-1.672877e+07</td>\n",
              "      <td>-2.839989e+14</td>\n",
              "    </tr>\n",
              "    <tr>\n",
              "      <th>pn_lot_7808247</th>\n",
              "      <td>0</td>\n",
              "      <td>2</td>\n",
              "      <td>144000.0</td>\n",
              "      <td>26.0</td>\n",
              "      <td>40.0</td>\n",
              "      <td>696</td>\n",
              "      <td>11.877569</td>\n",
              "      <td>4.334571e+09</td>\n",
              "      <td>546.66</td>\n",
              "      <td>3.071054e+06</td>\n",
              "      <td>315000.0</td>\n",
              "      <td>3.631111e+07</td>\n",
              "      <td>1.318497e+15</td>\n",
              "      <td>-4.334427e+09</td>\n",
              "      <td>143453.34</td>\n",
              "      <td>-2.927054e+06</td>\n",
              "      <td>-171000.0</td>\n",
              "      <td>-3.616711e+07</td>\n",
              "      <td>-1.318497e+15</td>\n",
              "    </tr>\n",
              "    <tr>\n",
              "      <th>pn_lot_7009496</th>\n",
              "      <td>0</td>\n",
              "      <td>2</td>\n",
              "      <td>124200.0</td>\n",
              "      <td>26.0</td>\n",
              "      <td>20.0</td>\n",
              "      <td>694</td>\n",
              "      <td>11.729648</td>\n",
              "      <td>4.334571e+09</td>\n",
              "      <td>546.66</td>\n",
              "      <td>3.071054e+06</td>\n",
              "      <td>315000.0</td>\n",
              "      <td>3.631111e+07</td>\n",
              "      <td>1.318497e+15</td>\n",
              "      <td>-4.334447e+09</td>\n",
              "      <td>123653.34</td>\n",
              "      <td>-2.946854e+06</td>\n",
              "      <td>-190800.0</td>\n",
              "      <td>-3.618691e+07</td>\n",
              "      <td>-1.318497e+15</td>\n",
              "    </tr>\n",
              "    <tr>\n",
              "      <th>pn_lot_5938735</th>\n",
              "      <td>0</td>\n",
              "      <td>2</td>\n",
              "      <td>50000.0</td>\n",
              "      <td>46.0</td>\n",
              "      <td>50.0</td>\n",
              "      <td>694</td>\n",
              "      <td>10.819778</td>\n",
              "      <td>3.728994e+10</td>\n",
              "      <td>0.01</td>\n",
              "      <td>1.073102e+07</td>\n",
              "      <td>631957.5</td>\n",
              "      <td>3.665663e+08</td>\n",
              "      <td>1.343708e+17</td>\n",
              "      <td>-3.728989e+10</td>\n",
              "      <td>49999.99</td>\n",
              "      <td>-1.068102e+07</td>\n",
              "      <td>-581957.5</td>\n",
              "      <td>-3.665163e+08</td>\n",
              "      <td>-1.343708e+17</td>\n",
              "    </tr>\n",
              "    <tr>\n",
              "      <th>pn_lot_9327348</th>\n",
              "      <td>0</td>\n",
              "      <td>2</td>\n",
              "      <td>493441.0</td>\n",
              "      <td>26.0</td>\n",
              "      <td>20.0</td>\n",
              "      <td>590</td>\n",
              "      <td>13.109159</td>\n",
              "      <td>4.334571e+09</td>\n",
              "      <td>546.66</td>\n",
              "      <td>3.071054e+06</td>\n",
              "      <td>315000.0</td>\n",
              "      <td>3.631111e+07</td>\n",
              "      <td>1.318497e+15</td>\n",
              "      <td>-4.334078e+09</td>\n",
              "      <td>492894.34</td>\n",
              "      <td>-2.577613e+06</td>\n",
              "      <td>178441.0</td>\n",
              "      <td>-3.581767e+07</td>\n",
              "      <td>-1.318497e+15</td>\n",
              "    </tr>\n",
              "    <tr>\n",
              "      <th>...</th>\n",
              "      <td>...</td>\n",
              "      <td>...</td>\n",
              "      <td>...</td>\n",
              "      <td>...</td>\n",
              "      <td>...</td>\n",
              "      <td>...</td>\n",
              "      <td>...</td>\n",
              "      <td>...</td>\n",
              "      <td>...</td>\n",
              "      <td>...</td>\n",
              "      <td>...</td>\n",
              "      <td>...</td>\n",
              "      <td>...</td>\n",
              "      <td>...</td>\n",
              "      <td>...</td>\n",
              "      <td>...</td>\n",
              "      <td>...</td>\n",
              "      <td>...</td>\n",
              "      <td>...</td>\n",
              "    </tr>\n",
              "    <tr>\n",
              "      <th>pn_lot_2387328</th>\n",
              "      <td>0</td>\n",
              "      <td>44</td>\n",
              "      <td>100.0</td>\n",
              "      <td>6.0</td>\n",
              "      <td>10.0</td>\n",
              "      <td>708</td>\n",
              "      <td>4.605170</td>\n",
              "      <td>2.256641e+08</td>\n",
              "      <td>1.00</td>\n",
              "      <td>5.562163e+06</td>\n",
              "      <td>364000.0</td>\n",
              "      <td>3.037365e+07</td>\n",
              "      <td>9.225585e+14</td>\n",
              "      <td>-2.256640e+08</td>\n",
              "      <td>99.00</td>\n",
              "      <td>-5.562063e+06</td>\n",
              "      <td>-363900.0</td>\n",
              "      <td>-3.037355e+07</td>\n",
              "      <td>-9.225585e+14</td>\n",
              "    </tr>\n",
              "    <tr>\n",
              "      <th>pn_lot_2416734</th>\n",
              "      <td>0</td>\n",
              "      <td>44</td>\n",
              "      <td>100.0</td>\n",
              "      <td>6.0</td>\n",
              "      <td>10.0</td>\n",
              "      <td>703</td>\n",
              "      <td>4.605170</td>\n",
              "      <td>2.256641e+08</td>\n",
              "      <td>1.00</td>\n",
              "      <td>5.562163e+06</td>\n",
              "      <td>364000.0</td>\n",
              "      <td>3.037365e+07</td>\n",
              "      <td>9.225585e+14</td>\n",
              "      <td>-2.256640e+08</td>\n",
              "      <td>99.00</td>\n",
              "      <td>-5.562063e+06</td>\n",
              "      <td>-363900.0</td>\n",
              "      <td>-3.037355e+07</td>\n",
              "      <td>-9.225585e+14</td>\n",
              "    </tr>\n",
              "    <tr>\n",
              "      <th>pn_lot_1607958</th>\n",
              "      <td>0</td>\n",
              "      <td>44</td>\n",
              "      <td>100.0</td>\n",
              "      <td>6.0</td>\n",
              "      <td>10.0</td>\n",
              "      <td>689</td>\n",
              "      <td>4.605170</td>\n",
              "      <td>2.256641e+08</td>\n",
              "      <td>1.00</td>\n",
              "      <td>5.562163e+06</td>\n",
              "      <td>364000.0</td>\n",
              "      <td>3.037365e+07</td>\n",
              "      <td>9.225585e+14</td>\n",
              "      <td>-2.256640e+08</td>\n",
              "      <td>99.00</td>\n",
              "      <td>-5.562063e+06</td>\n",
              "      <td>-363900.0</td>\n",
              "      <td>-3.037355e+07</td>\n",
              "      <td>-9.225585e+14</td>\n",
              "    </tr>\n",
              "    <tr>\n",
              "      <th>pn_lot_8820511</th>\n",
              "      <td>0</td>\n",
              "      <td>44</td>\n",
              "      <td>100.0</td>\n",
              "      <td>6.0</td>\n",
              "      <td>10.0</td>\n",
              "      <td>680</td>\n",
              "      <td>4.605170</td>\n",
              "      <td>2.256641e+08</td>\n",
              "      <td>1.00</td>\n",
              "      <td>5.562163e+06</td>\n",
              "      <td>364000.0</td>\n",
              "      <td>3.037365e+07</td>\n",
              "      <td>9.225585e+14</td>\n",
              "      <td>-2.256640e+08</td>\n",
              "      <td>99.00</td>\n",
              "      <td>-5.562063e+06</td>\n",
              "      <td>-363900.0</td>\n",
              "      <td>-3.037355e+07</td>\n",
              "      <td>-9.225585e+14</td>\n",
              "    </tr>\n",
              "    <tr>\n",
              "      <th>pn_lot_2852669</th>\n",
              "      <td>0</td>\n",
              "      <td>44</td>\n",
              "      <td>25000.0</td>\n",
              "      <td>62.0</td>\n",
              "      <td>0.0</td>\n",
              "      <td>586</td>\n",
              "      <td>10.126631</td>\n",
              "      <td>1.500000e+10</td>\n",
              "      <td>2833.33</td>\n",
              "      <td>1.078556e+07</td>\n",
              "      <td>305978.8</td>\n",
              "      <td>1.694074e+08</td>\n",
              "      <td>2.869887e+16</td>\n",
              "      <td>-1.499998e+10</td>\n",
              "      <td>22166.67</td>\n",
              "      <td>-1.076056e+07</td>\n",
              "      <td>-280978.8</td>\n",
              "      <td>-1.693824e+08</td>\n",
              "      <td>-2.869887e+16</td>\n",
              "    </tr>\n",
              "  </tbody>\n",
              "</table>\n",
              "<p>778121 rows × 19 columns</p>\n",
              "</div>"
            ],
            "text/plain": [
              "                fz  region_code  ...  difference_std  difference_var\n",
              "pn_lot_anon                      ...                                \n",
              "pn_lot_7031618   0            2  ...   -1.672877e+07   -2.839989e+14\n",
              "pn_lot_7808247   0            2  ...   -3.616711e+07   -1.318497e+15\n",
              "pn_lot_7009496   0            2  ...   -3.618691e+07   -1.318497e+15\n",
              "pn_lot_5938735   0            2  ...   -3.665163e+08   -1.343708e+17\n",
              "pn_lot_9327348   0            2  ...   -3.581767e+07   -1.318497e+15\n",
              "...             ..          ...  ...             ...             ...\n",
              "pn_lot_2387328   0           44  ...   -3.037355e+07   -9.225585e+14\n",
              "pn_lot_2416734   0           44  ...   -3.037355e+07   -9.225585e+14\n",
              "pn_lot_1607958   0           44  ...   -3.037355e+07   -9.225585e+14\n",
              "pn_lot_8820511   0           44  ...   -3.037355e+07   -9.225585e+14\n",
              "pn_lot_2852669   0           44  ...   -1.693824e+08   -2.869887e+16\n",
              "\n",
              "[778121 rows x 19 columns]"
            ]
          },
          "metadata": {
            "tags": []
          },
          "execution_count": 43
        }
      ]
    },
    {
      "cell_type": "code",
      "metadata": {
        "id": "ixBsAm57VkC1",
        "colab": {
          "base_uri": "https://localhost:8080/",
          "height": 572
        },
        "outputId": "f309bfcd-cb47-4470-c497-1e462784967d"
      },
      "source": [
        "inn_kpp_history_train.head(5)"
      ],
      "execution_count": null,
      "outputs": [
        {
          "output_type": "execute_result",
          "data": {
            "text/html": [
              "<div>\n",
              "<style scoped>\n",
              "    .dataframe tbody tr th:only-of-type {\n",
              "        vertical-align: middle;\n",
              "    }\n",
              "\n",
              "    .dataframe tbody tr th {\n",
              "        vertical-align: top;\n",
              "    }\n",
              "\n",
              "    .dataframe thead th {\n",
              "        text-align: right;\n",
              "    }\n",
              "</style>\n",
              "<table border=\"1\" class=\"dataframe\">\n",
              "  <thead>\n",
              "    <tr style=\"text-align: right;\">\n",
              "      <th></th>\n",
              "      <th>participant_pn_lot_anon</th>\n",
              "      <th>list_participant_inn_kpp_anon</th>\n",
              "      <th>list_is_winner</th>\n",
              "      <th>list_fz</th>\n",
              "      <th>list_region_code</th>\n",
              "      <th>list_okpd2_main</th>\n",
              "    </tr>\n",
              "  </thead>\n",
              "  <tbody>\n",
              "    <tr>\n",
              "      <th>0</th>\n",
              "      <td>inn_kpp_1000018</td>\n",
              "      <td>[pn_lot_5330449, pn_lot_648665, pn_lot_81155, ...</td>\n",
              "      <td>[0, 0, 0, 1, 1, 1, 1, 1, 0, 0, 0, 1, 1, 1, 1, ...</td>\n",
              "      <td>[44fz, 44fz, 44fz, 44fz, 44fz, 44fz, 44fz, 44f...</td>\n",
              "      <td>[64, 50, 50, 77, 50, 64, 77, 77, 77, 77, 50, 7...</td>\n",
              "      <td>[58.0, 26.0, 26.0, 26.0, 26.0, 58.0, 26.0, 27....</td>\n",
              "    </tr>\n",
              "    <tr>\n",
              "      <th>1</th>\n",
              "      <td>inn_kpp_1001268</td>\n",
              "      <td>[pn_lot_7608031, pn_lot_9976372, pn_lot_671651...</td>\n",
              "      <td>[1, 1, 1, 1, 0, 0, 1, 0, 1, 1, 1, 1, 1, 0, 1, ...</td>\n",
              "      <td>[44fz, 44fz, 44fz, 44fz, 44fz, 44fz, 44fz, 44f...</td>\n",
              "      <td>[77, 79, 79, 79, 79, 27, 79, 79, 79, 79, 79, 7...</td>\n",
              "      <td>[86.0, 86.0, 86.0, 86.0, 86.0, 86.0, 86.0, 86....</td>\n",
              "    </tr>\n",
              "    <tr>\n",
              "      <th>2</th>\n",
              "      <td>inn_kpp_1002518</td>\n",
              "      <td>[pn_lot_5287076, pn_lot_7474816, pn_lot_121000...</td>\n",
              "      <td>[0, 0, 1, 1, 0, 0, 1, 1, 1, 0, 0, 1, 0, 0, 0, ...</td>\n",
              "      <td>[44fz, 44fz, 44fz, 44fz, 44fz, 44fz, 44fz, 44f...</td>\n",
              "      <td>[41, 27, 82, 65, 65, 65, 41, 41, 41, 41, 82, 4...</td>\n",
              "      <td>[30.0, 27.0, 27.0, 25.0, 30.0, 29.0, 25.0, 25....</td>\n",
              "    </tr>\n",
              "    <tr>\n",
              "      <th>3</th>\n",
              "      <td>inn_kpp_1003261</td>\n",
              "      <td>[pn_lot_2647783]</td>\n",
              "      <td>[1]</td>\n",
              "      <td>[223fz]</td>\n",
              "      <td>[54]</td>\n",
              "      <td>[28.0]</td>\n",
              "    </tr>\n",
              "    <tr>\n",
              "      <th>4</th>\n",
              "      <td>inn_kpp_1003291</td>\n",
              "      <td>[pn_lot_7794721, pn_lot_4767800, pn_lot_915979...</td>\n",
              "      <td>[0, 1, 1, 1, 1, 1, 1, 1, 1, 1, 1, 1, 1, 1, 0, ...</td>\n",
              "      <td>[44fz, 44fz, 44fz, 44fz, 44fz, 44fz, 44fz, 44f...</td>\n",
              "      <td>[50, 12, 50, 50, 51, 69, 11, 12, 11, 12, 12, 1...</td>\n",
              "      <td>[32.0, 32.0, 32.0, 32.0, 32.0, 32.0, 32.0, 21....</td>\n",
              "    </tr>\n",
              "    <tr>\n",
              "      <th>...</th>\n",
              "      <td>...</td>\n",
              "      <td>...</td>\n",
              "      <td>...</td>\n",
              "      <td>...</td>\n",
              "      <td>...</td>\n",
              "      <td>...</td>\n",
              "    </tr>\n",
              "    <tr>\n",
              "      <th>16485</th>\n",
              "      <td>inn_kpp_9996627</td>\n",
              "      <td>[pn_lot_7946989, pn_lot_945176, pn_lot_3503646...</td>\n",
              "      <td>[0, 0, 0, 0, 0, 0, 0, 0, 0, 0, 0, 0, 0, 0, 0, ...</td>\n",
              "      <td>[44fz, 44fz, 44fz, 223fz, 44fz, 44fz, 44fz, 44...</td>\n",
              "      <td>[66, 66, 66, 66, 66, 66, 66, 66, 66, 66, 66, 6...</td>\n",
              "      <td>[43.0, 43.0, 43.0, 43.0, 43.0, 42.0, 42.0, 43....</td>\n",
              "    </tr>\n",
              "    <tr>\n",
              "      <th>16486</th>\n",
              "      <td>inn_kpp_9997846</td>\n",
              "      <td>[pn_lot_4141328, pn_lot_6838981, pn_lot_4668669]</td>\n",
              "      <td>[1, 0, 0]</td>\n",
              "      <td>[44fz, 44fz, 44fz]</td>\n",
              "      <td>[5, 5, 5]</td>\n",
              "      <td>[42.0, 42.0, 42.0]</td>\n",
              "    </tr>\n",
              "    <tr>\n",
              "      <th>16487</th>\n",
              "      <td>inn_kpp_9997944</td>\n",
              "      <td>[pn_lot_274406, pn_lot_1371030, pn_lot_2180007...</td>\n",
              "      <td>[1, 1, 0, 0, 0, 0, 0, 0, 1, 0, 1, 0, 0, 0, 0, ...</td>\n",
              "      <td>[44fz, 44fz, 44fz, 44fz, 44fz, 44fz, 44fz, 44f...</td>\n",
              "      <td>[25, 25, 25, 25, 25, 25, 25, 25, 25, 65, 27, 2...</td>\n",
              "      <td>[41.0, 43.0, 43.0, 43.0, 43.0, 43.0, 42.0, 42....</td>\n",
              "    </tr>\n",
              "    <tr>\n",
              "      <th>16488</th>\n",
              "      <td>inn_kpp_9998925</td>\n",
              "      <td>[pn_lot_9101115, pn_lot_3771565, pn_lot_900669...</td>\n",
              "      <td>[0, 0, 0, 1, 0, 0, 0, 1, 0, 0, 0, 1, 1, 0, 0, ...</td>\n",
              "      <td>[44fz, 44fz, 44fz, 44fz, 223fz, 44fz, 44fz, 44...</td>\n",
              "      <td>[63, 63, 63, 63, 63, 63, 63, 63, 63, 63, 63, 6...</td>\n",
              "      <td>[43.0, 43.0, 42.0, 43.0, 8.0, 43.0, 42.0, 42.0...</td>\n",
              "    </tr>\n",
              "    <tr>\n",
              "      <th>16489</th>\n",
              "      <td>inn_kpp_9999743</td>\n",
              "      <td>[pn_lot_2667918, pn_lot_3757391, pn_lot_830544...</td>\n",
              "      <td>[0, 0, 0, 0, 0, 1, 1, 0, 0, 1, 0, 0, 0, 0, 0, ...</td>\n",
              "      <td>[44fz, 44fz, 44fz, 44fz, 44fz, 223fz, 223fz, 4...</td>\n",
              "      <td>[14, 14, 14, 40, 89, 14, 14, 14, 65, 14, 14, 1...</td>\n",
              "      <td>[85.0, 85.0, 85.0, 85.0, 85.0, 86.0, 71.0, 85....</td>\n",
              "    </tr>\n",
              "  </tbody>\n",
              "</table>\n",
              "<p>16490 rows × 6 columns</p>\n",
              "</div>"
            ],
            "text/plain": [
              "      participant_pn_lot_anon  ...                                    list_okpd2_main\n",
              "0             inn_kpp_1000018  ...  [58.0, 26.0, 26.0, 26.0, 26.0, 58.0, 26.0, 27....\n",
              "1             inn_kpp_1001268  ...  [86.0, 86.0, 86.0, 86.0, 86.0, 86.0, 86.0, 86....\n",
              "2             inn_kpp_1002518  ...  [30.0, 27.0, 27.0, 25.0, 30.0, 29.0, 25.0, 25....\n",
              "3             inn_kpp_1003261  ...                                             [28.0]\n",
              "4             inn_kpp_1003291  ...  [32.0, 32.0, 32.0, 32.0, 32.0, 32.0, 32.0, 21....\n",
              "...                       ...  ...                                                ...\n",
              "16485         inn_kpp_9996627  ...  [43.0, 43.0, 43.0, 43.0, 43.0, 42.0, 42.0, 43....\n",
              "16486         inn_kpp_9997846  ...                                 [42.0, 42.0, 42.0]\n",
              "16487         inn_kpp_9997944  ...  [41.0, 43.0, 43.0, 43.0, 43.0, 43.0, 42.0, 42....\n",
              "16488         inn_kpp_9998925  ...  [43.0, 43.0, 42.0, 43.0, 8.0, 43.0, 42.0, 42.0...\n",
              "16489         inn_kpp_9999743  ...  [85.0, 85.0, 85.0, 85.0, 85.0, 86.0, 71.0, 85....\n",
              "\n",
              "[16490 rows x 6 columns]"
            ]
          },
          "metadata": {
            "tags": []
          },
          "execution_count": 44
        }
      ]
    },
    {
      "cell_type": "code",
      "metadata": {
        "id": "yg9uDx4ggVse"
      },
      "source": [
        "answer = []\n",
        "errors = []"
      ],
      "execution_count": null,
      "outputs": []
    },
    {
      "cell_type": "code",
      "metadata": {
        "id": "B4mNZlITEfi4"
      },
      "source": [
        "start = time.time()\n",
        "for i in range(froms,tos+1): #поставить свои значения\n",
        "  print(i)\n",
        "  stroka = inn_kpp_history_train.iloc[i]\n",
        "  region_code_list = list(set(stroka[4]))\n",
        "  okpd2_list = list(set(stroka[5]))\n",
        "\n",
        "  data_of_inn = pd.DataFrame(index=pn_lots,columns=[stroka[0]])\n",
        "  for j in stroka[1]:\n",
        "    data_of_inn.loc[j,stroka[0]]=1\n",
        "    \n",
        "  data_of_inn = data_of_inn.fillna(0)\n",
        "  data_of_inn = data_of_inn.reset_index()\n",
        "  data_of_inn = data_of_inn.rename({'index':'pn_lot_anon'}, axis=1) # data_of_inn  - y     features_train - x\n",
        "  DATA_ALL = pd.merge(features_train, data_of_inn, on=['pn_lot_anon'])\n",
        "  DATA_ALL = DATA_ALL.set_index('pn_lot_anon')\n",
        "\n",
        "\n",
        "  DATA_TMP = DATA_ALL\n",
        "  DATA_TMP = DATA_TMP[[i in okpd2_list for i in DATA_TMP['okpd2_main']]]\n",
        "  DATA_TMP = DATA_TMP[[i in region_code_list for i in DATA_TMP['region_code']] ]\n",
        "  if(len(DATA_TMP.index.tolist())<70):\n",
        "      DATA_TMP = DATA_ALL\n",
        "      DATA_TMP = DATA_TMP[[i in okpd2_list for i in DATA_TMP['okpd2_main']]]\n",
        "  if(len(DATA_TMP.index.tolist())<70):\n",
        "      DATA_TMP = DATA_ALL\n",
        "      DATA_TMP = DATA_TMP[[i in region_code_list for i in DATA_TMP['region_code']] ]\n",
        "  if(len(DATA_TMP.index.tolist())<70 or (len(region_code_list)==1 or len(okpd2_list)==1)):\n",
        "      DATA_TMP = DATA_ALL\n",
        "  DATA_ALL = DATA_TMP\n",
        "\n",
        "\n",
        "\n",
        "  trainings_data, testings_data = sklearn.model_selection.train_test_split(DATA_ALL)\n",
        "  #трейнинг чтоб обучалось\n",
        "  y_training=trainings_data[stroka[0]]\n",
        "  X_training=trainings_data[['fz','region_code','lot_price','okpd2_main','log_price','okpd2_second','data_delta','maximum','minimum','mean','median','std','var','difference_maximum','difference_minimum','difference_mean','difference_median','difference_std','difference_var']]\n",
        "  #тестинг чтоб тестилось\n",
        "  y_testing=testings_data[stroka[0]]\n",
        "  X_testing=testings_data[['fz','region_code','lot_price','okpd2_main','log_price','okpd2_second','data_delta','maximum','minimum','mean','median','std','var','difference_maximum','difference_minimum','difference_mean','difference_median','difference_std','difference_var']]\n",
        "  #тест для решения\n",
        "  X_test=features_test\n",
        "  X_test = X_test[[i in okpd2_list for i in X_test['okpd2_main']]]\n",
        "  X_test = X_test[[i in region_code_list for i in X_test['region_code']]]\n",
        "  if(len(X_test.index.tolist())<35):\n",
        "      X_test=features_test\n",
        "      X_test = X_test[[i in okpd2_list for i in X_test['okpd2_main']]]\n",
        "  if(len(X_test.index.tolist())<35):\n",
        "      X_test=features_test\n",
        "      X_test = X_test[[i in okpd2_list for i in X_test['region_code']]]\n",
        "  if(len(X_test.index.tolist())<35 or (len(region_code_list)==1 or len(okpd2_list)==1)):\n",
        "      X_test=features_test\n",
        "  #тренировка ИИ\n",
        "\n",
        "\n",
        "\n",
        "  try:\n",
        "    train_pool = Pool(data=X_training, label=y_training)\n",
        "    eval_pool = Pool(data=X_testing,label=y_testing)\n",
        "    rnd = random.randint(1, 10000000)\n",
        "    catboost_params = {\n",
        "        'learning_rate' : 0.1,\n",
        "        'max_depth' : 3,\n",
        "        'iterations': 500,\n",
        "        'task_type' : \"GPU\",\n",
        "        'eval_metric': 'Recall',\n",
        "        'verbose' : 0,\n",
        "        'random_seed': rnd\n",
        "    }\n",
        "    model = CatBoostClassifier(**catboost_params)\n",
        "    model = model.fit(train_pool,eval_set=eval_pool)\n",
        "  except:\n",
        "    try:\n",
        "        train_pool = Pool(data=DATA_ALL[['fz','region_code','lot_price','okpd2_main','log_price','maximum','minimum','mean','median','difference_maximum','difference_minimum','difference_mean','difference_median']], label=DATA_ALL[stroka[0]])\n",
        "        rnd = random.randint(1, 10000000)\n",
        "        catboost_params = {\n",
        "            'learning_rate' : 0.1,\n",
        "            'max_depth' : 3,\n",
        "            'iterations': 500,\n",
        "            'eval_metric': 'Recall',\n",
        "            'task_type' : \"GPU\",\n",
        "            'verbose' : 0,\n",
        "            'random_seed': rnd\n",
        "        }\n",
        "        model = CatBoostClassifier(**catboost_params)\n",
        "        model = model.fit(train_pool)\n",
        "    except:\n",
        "        errors.append(inn_kpp_history_train['participant_pn_lot_anon'][i])\n",
        "        continue\n",
        "\n",
        "  ##### резы теста\n",
        "  name_of_lots = X_test.index.tolist()\n",
        "  pred=model.predict_proba(X_test)\n",
        "\n",
        "  k = 0\n",
        "  pairs = []\n",
        "  for j in pred:\n",
        "    pair = [j[1],k]\n",
        "    pairs.append(pair)\n",
        "    k+=1\n",
        "  pairs.sort(key=lambda x: x[0])\n",
        "  print(inn_kpp_history_train['participant_pn_lot_anon'][i],i)\n",
        "  for j in range(1,35+1):\n",
        "    answer.append({\n",
        "        'inn_kpp': inn_kpp_history_train['participant_pn_lot_anon'][i],\n",
        "        'actual_recommended_pn_lot': name_of_lots[pairs[-j][1]],\n",
        "        'similarity_score': pairs[-j][0]\n",
        "    })\n",
        "print(time.time()-start) #подсчет времени"
      ],
      "execution_count": null,
      "outputs": []
    },
    {
      "cell_type": "code",
      "metadata": {
        "id": "1AyiRLyihP8f"
      },
      "source": [
        "import csv\n",
        "with open('org.csv', 'w', newline=\"\") as file:\n",
        "    writer = csv.writer(file, delimiter=';')\n",
        "    writer.writerow(['inn_kpp,actual_recommended_pn_lot,similarity_score'])\n",
        "    for one_answer in answer:\n",
        "      writer.writerow([one_answer['inn_kpp'],one_answer['actual_recommended_pn_lot'],one_answer['similarity_score']])"
      ],
      "execution_count": null,
      "outputs": []
    }
  ]
}