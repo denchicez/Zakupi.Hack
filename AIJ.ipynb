{
  "nbformat": 4,
  "nbformat_minor": 0,
  "metadata": {
    "kernelspec": {
      "display_name": "Python 3",
      "language": "python",
      "name": "python3"
    },
    "language_info": {
      "codemirror_mode": {
        "name": "ipython",
        "version": 3
      },
      "file_extension": ".py",
      "mimetype": "text/x-python",
      "name": "python",
      "nbconvert_exporter": "python",
      "pygments_lexer": "ipython3",
      "version": "3.8.3"
    },
    "colab": {
      "name": "baseline (9).ipynb",
      "provenance": [],
      "collapsed_sections": [],
      "toc_visible": true
    },
    "accelerator": "GPU"
  },
  "cells": [
    {
      "cell_type": "code",
      "metadata": {
        "id": "9XsVqGeUjo5E",
        "colab": {
          "base_uri": "https://localhost:8080/"
        },
        "outputId": "e2134ee5-7327-4f66-feb9-4c058692c844"
      },
      "source": [
        "import pandas as pd\n",
        "import numpy as np\n",
        "from tqdm import tqdm_notebook\n",
        "import re\n",
        "import warnings\n",
        "from google.colab import drive\n",
        "drive.mount('/content/drive')\n",
        "warnings.filterwarnings('ignore')"
      ],
      "execution_count": 1,
      "outputs": [
        {
          "output_type": "stream",
          "text": [
            "Drive already mounted at /content/drive; to attempt to forcibly remount, call drive.mount(\"/content/drive\", force_remount=True).\n"
          ],
          "name": "stdout"
        }
      ]
    },
    {
      "cell_type": "code",
      "metadata": {
        "id": "6wq6ZQMXjo5G"
      },
      "source": [
        "#считывание данных \n",
        "train_data = pd.read_csv(\"../content/drive/MyDrive/Zakupi.hack/train_data.csv\", sep=';')\n",
        "train_labels = pd.read_csv(\"../content/drive/MyDrive/Zakupi.hack/train_labels.csv\", sep=';')\n",
        "test_data = pd.read_csv(\"../content/drive/MyDrive/Zakupi.hack/test_data.csv\", sep=';')"
      ],
      "execution_count": 2,
      "outputs": []
    },
    {
      "cell_type": "code",
      "metadata": {
        "id": "Zf5aR69CmbRe"
      },
      "source": [
        "#откуда\r\n",
        "froms = 6000      #ВВЕДИ 12000-12749"
      ],
      "execution_count": 3,
      "outputs": []
    },
    {
      "cell_type": "code",
      "metadata": {
        "id": "oUXomVuumuXe"
      },
      "source": [
        "#докуда\r\n",
        "tos =  7999     #ВВЕДИ"
      ],
      "execution_count": 4,
      "outputs": []
    },
    {
      "cell_type": "markdown",
      "metadata": {
        "id": "FpVpFqFUa-t0"
      },
      "source": [
        "# Новый раздел"
      ]
    },
    {
      "cell_type": "markdown",
      "metadata": {
        "id": "BikAAbNyik2e"
      },
      "source": [
        "# Cоздание фич и чистка данных"
      ]
    },
    {
      "cell_type": "code",
      "metadata": {
        "id": "SsKnCmZajdjj"
      },
      "source": [
        "features_train = train_data\r\n",
        "features_test = test_data"
      ],
      "execution_count": 5,
      "outputs": []
    },
    {
      "cell_type": "code",
      "metadata": {
        "id": "F0XQW2v58JiA"
      },
      "source": [
        "#Заполнение пропусков строкой 'None'\r\n",
        "features_train = features_train.fillna(0)\r\n",
        "features_test = features_test.fillna(0)"
      ],
      "execution_count": 6,
      "outputs": []
    },
    {
      "cell_type": "code",
      "metadata": {
        "id": "BKPtp-QDF0fP"
      },
      "source": [
        "# удалим лоты \"подарки\"\r\n",
        "features_train = features_train[features_train['lot_price'] > 0]\r\n",
        "features_test = features_test[features_test['lot_price'] > 0]"
      ],
      "execution_count": 7,
      "outputs": []
    },
    {
      "cell_type": "code",
      "metadata": {
        "id": "upjTfGNK7Fs-"
      },
      "source": [
        "# текст в число 44fz - 0, 223fz - 1\r\n",
        "features_train['fz'] = features_train.fz.apply(lambda x: 1 if x == '223fz' else 0)\r\n",
        "features_test['fz'] = features_test.fz.apply(lambda x: 1 if x == '223fz' else 0)"
      ],
      "execution_count": 8,
      "outputs": []
    },
    {
      "cell_type": "markdown",
      "metadata": {
        "id": "aF1ctW9IkDPv"
      },
      "source": [
        "#### Обработка okpd2 и additional_code\r\n"
      ]
    },
    {
      "cell_type": "code",
      "metadata": {
        "id": "Po1Gh_uikIrv"
      },
      "source": [
        "#объеденим в один столбец okpd2_code и additional_code , т.к. они взаимозаменяют (почти) друг друга. Удалим стобцы, которые объеденяли \r\n",
        "features_train['okpd2_or_additional_code'] = features_train[['okpd2_code', 'additional_code']].apply(lambda x: x[0] if x[1] == 0 else x[1], axis=1)\r\n",
        "features_test['okpd2_or_additional_code'] = features_test[['okpd2_code', 'additional_code']].apply(lambda x: x[0] if x[1] == 0 else x[1], axis=1)\r\n",
        "del features_train['okpd2_code']\r\n",
        "del features_train['additional_code']\r\n",
        "del features_test['okpd2_code']\r\n",
        "del features_test['additional_code']"
      ],
      "execution_count": 9,
      "outputs": []
    },
    {
      "cell_type": "code",
      "metadata": {
        "id": "9ee4eccikI20",
        "colab": {
          "base_uri": "https://localhost:8080/"
        },
        "outputId": "8a4105db-b466-4a0e-ae6c-98bfc65f75d2"
      },
      "source": [
        "#поймем что 85% (примерно) не имеет lot_name \r\n",
        "print(features_train.lot_name.value_counts())\r\n",
        "print(features_test.lot_name.value_counts())"
      ],
      "execution_count": 10,
      "outputs": [
        {
          "output_type": "stream",
          "text": [
            "0                                                                                                                                                                                                  649465\n",
            "Российский рубль                                                                                                                                                                                      531\n",
            "Поставка канцелярских товаров                                                                                                                                                                         293\n",
            "Поставка лекарственных препаратов                                                                                                                                                                     261\n",
            "Оборудование для измерения, испытаний и навигации                                                                                                                                                     218\n",
            "                                                                                                                                                                                                    ...  \n",
            "Выполнение подрядных работ по строительству  ВЛ 0,4 кВ Ф-4 КТП-126 (ТУ№111 от 01.08.2019г., заяв. Магомедов Р.С. ул. Плещенко,3) в г. Нефтекумске Ставропольского края                                  1\n",
            "Поставка товара. Асбесто-резинотехнические материалы.                                                                                                                                                   1\n",
            "Комплексное техническое обследование зданий и сооружений для нужд филиала ПЭС Лабытнанги                                                                                                                1\n",
            "поставка калибровочных источников ионизирующего излучения                                                                                                                                               1\n",
            "Определение подрядчика на выполнение работ по техническому обслуживанию комплекса на базе видеостены на ДП ВЭС – филиала ПАО «МОЭСК» по адресу: МО,г.Ногинск, ул.Радченко, д.13 в 2019-2020 гг.         1\n",
            "Name: lot_name, Length: 100174, dtype: int64\n",
            "0                                                                                                                                                                                                                                                                                                   70502\n",
            "Поставка лекарственных препаратов                                                                                                                                                                                                                                                                      36\n",
            "Поставка лекарственных препаратов для льготного обеспечения граждан                                                                                                                                                                                                                                    22\n",
            "Поставка расходных материалов                                                                                                                                                                                                                                                                          22\n",
            "Поставка хозяйственных товаров                                                                                                                                                                                                                                                                         19\n",
            "                                                                                                                                                                                                                                                                                                    ...  \n",
            "Выполнение работ по ремонту и окраске железобетонной дымовой трубы Н = 120 м в котельной МП «Теплоснабжение» по адресу: 249038, г. Обнинск, Калужская область, Коммунальный проезд,21                                                                                                                   1\n",
            "Капитальный ремонт аудитории №№4004,4005                                                                                                                                                                                                                                                                1\n",
            "Поставка лекарственных средств для нужд Клинического центра ФГАОУ ВО Первый МГМУ им. И.М. Сеченова Минздрава России (Сеченовский Университет) в 2020 году  (для субъектов малого и среднего предпринимательства)                                                                                        1\n",
            "Поставка оргтехники и комплектующих.                                                                                                                                                                                                                                                                    1\n",
            "Выполнение ПИР, СМР, ПНР, оборудование по титулу: Строительство ТП-160-10/0,4 кВ, ВЛЗ-10 кВ от ВЛ-10 кВ ф. Новинковский с ТП-298, ПС №748 Лазарево, ВЛ-0,4 кВ, в т.ч. ПИР, МО, Серпуховский р-н, Новинки-Бегичево д Ю8-20-302-27329(153646) для нужд филиала ПАО Россети Московский регион - ЮЭС        1\n",
            "Name: lot_name, Length: 12377, dtype: int64\n"
          ],
          "name": "stdout"
        }
      ]
    },
    {
      "cell_type": "code",
      "metadata": {
        "id": "_V4tnXdikI3k"
      },
      "source": [
        "#удалим их\r\n",
        "del features_test['lot_name']\r\n",
        "del features_train['lot_name']"
      ],
      "execution_count": 11,
      "outputs": []
    },
    {
      "cell_type": "code",
      "metadata": {
        "id": "tGd8f7kU3hD1"
      },
      "source": [
        "features_train['okpd2_main'] = features_train.okpd2_or_additional_code.apply(lambda x: 21 if (x == 'drug' or x=='F') else float(x)*100//100)\r\n",
        "features_test['okpd2_main']  = features_test.okpd2_or_additional_code.apply(lambda x: 21 if (x == 'drug' or x=='F') else (float(x)*100)//100)"
      ],
      "execution_count": 12,
      "outputs": []
    },
    {
      "cell_type": "code",
      "metadata": {
        "id": "sOtwOfH0A8UZ"
      },
      "source": [
        "features_train['okpd2_second'] = features_train.okpd2_or_additional_code.apply(lambda x: 20 if (x == 'drug' or x=='F') else (float(x)*100)%100)\r\n",
        "features_test['okpd2_second']  = features_test.okpd2_or_additional_code.apply(lambda x: 20 if (x == 'drug' or x=='F') else (float(x)*100)%100)"
      ],
      "execution_count": 13,
      "outputs": []
    },
    {
      "cell_type": "code",
      "metadata": {
        "id": "WTWRBC-PJnJr"
      },
      "source": [
        "del features_train['okpd2_or_additional_code']\r\n",
        "del features_test['okpd2_or_additional_code']"
      ],
      "execution_count": 14,
      "outputs": []
    },
    {
      "cell_type": "markdown",
      "metadata": {
        "id": "zLtk9s3Lsqls"
      },
      "source": [
        "\r\n",
        "Обработка текста"
      ]
    },
    {
      "cell_type": "code",
      "metadata": {
        "id": "XP5X8BX4stUW"
      },
      "source": [
        "# Удаляем текст. Но можно использовать (некоторые) их для определение точного подкласса || не получилось. \r\n",
        "del features_train['purchase_name']\r\n",
        "del features_train['okpd2_names']\r\n",
        "del features_train['item_descriptions']\r\n",
        "del features_train['additional_code_names']\r\n",
        "\r\n",
        "del features_test['additional_code_names']\r\n",
        "del features_test['purchase_name']\r\n",
        "del features_test['okpd2_names']\r\n",
        "del features_test['item_descriptions']"
      ],
      "execution_count": 15,
      "outputs": []
    },
    {
      "cell_type": "markdown",
      "metadata": {
        "id": "rX7qJIdjGomy"
      },
      "source": [
        "Дата"
      ]
    },
    {
      "cell_type": "code",
      "metadata": {
        "id": "lDNTYvnXEyzs"
      },
      "source": [
        "features_train['min_publish_date'] = pd.to_datetime(features_train['min_publish_date'], format = '%Y-%m-%d')\r\n",
        "features_test['min_publish_date'] = pd.to_datetime(features_test['min_publish_date'], format = '%Y-%m-%d')"
      ],
      "execution_count": 16,
      "outputs": []
    },
    {
      "cell_type": "code",
      "metadata": {
        "id": "yRN6K-fMF1ox"
      },
      "source": [
        "date_now = pd.Timestamp('20210205')"
      ],
      "execution_count": 17,
      "outputs": []
    },
    {
      "cell_type": "code",
      "metadata": {
        "id": "F1DDUBBZEy18"
      },
      "source": [
        "features_train['data_delta'] = (date_now-features_train['min_publish_date']).dt.days\r\n",
        "features_test['data_delta'] = (date_now-features_test['min_publish_date']).dt.days"
      ],
      "execution_count": 18,
      "outputs": []
    },
    {
      "cell_type": "code",
      "metadata": {
        "id": "4JDFu5GCEy4I"
      },
      "source": [
        "del features_train['min_publish_date']\r\n",
        "del features_test['min_publish_date']"
      ],
      "execution_count": 19,
      "outputs": []
    },
    {
      "cell_type": "markdown",
      "metadata": {
        "id": "ODG3cku5rj5X"
      },
      "source": [
        "#### Обработка цены"
      ]
    },
    {
      "cell_type": "code",
      "metadata": {
        "id": "Mn_tFEdzp0aL"
      },
      "source": [
        "import matplotlib.pyplot as plt"
      ],
      "execution_count": 20,
      "outputs": []
    },
    {
      "cell_type": "code",
      "metadata": {
        "id": "2G4bOnpbqLgz",
        "colab": {
          "base_uri": "https://localhost:8080/",
          "height": 282
        },
        "outputId": "b38f5895-f093-47d7-9acf-8b3068164f40"
      },
      "source": [
        "#посмотрим зависимость цены на кол-во покупок \r\n",
        "#Обычно\r\n",
        "xs_ = list(set(np.around((train_data['lot_price'].dropna() + 1) / 1000000)))\r\n",
        "ys_ = np.array([sum(np.around((train_data['lot_price'].dropna() + 1) / 1000000) == i) for i in xs_])\r\n",
        "plt.plot(xs_, ys_)"
      ],
      "execution_count": 21,
      "outputs": [
        {
          "output_type": "execute_result",
          "data": {
            "text/plain": [
              "[<matplotlib.lines.Line2D at 0x7f7137dce780>]"
            ]
          },
          "metadata": {
            "tags": []
          },
          "execution_count": 21
        },
        {
          "output_type": "display_data",
          "data": {
            "image/png": "[encoded data removed]",
            "text/plain": [
              "<Figure size 432x288 with 1 Axes>"
            ]
          },
          "metadata": {
            "tags": [],
            "needs_background": "light"
          }
        }
      ]
    },
    {
      "cell_type": "code",
      "metadata": {
        "id": "MEsqhGqarfR8",
        "colab": {
          "base_uri": "https://localhost:8080/",
          "height": 285
        },
        "outputId": "c06796e7-fd32-47e0-e89a-9798b1cd7275"
      },
      "source": [
        "#Логорифмируемая \r\n",
        "xs = list(set(np.around(2 * np.log(features_train['lot_price'].dropna() + 1))))\r\n",
        "ys = np.array([sum(np.around(2 * np.log(features_train['lot_price'].dropna() + 1)) == i) for i in xs])\r\n",
        "plt.plot(xs, ys) "
      ],
      "execution_count": 22,
      "outputs": [
        {
          "output_type": "execute_result",
          "data": {
            "text/plain": [
              "[<matplotlib.lines.Line2D at 0x7f71335b4208>]"
            ]
          },
          "metadata": {
            "tags": []
          },
          "execution_count": 22
        },
        {
          "output_type": "display_data",
          "data": {
            "image/png": "[encoded data removed]",
            "text/plain": [
              "<Figure size 432x288 with 1 Axes>"
            ]
          },
          "metadata": {
            "tags": [],
            "needs_background": "light"
          }
        }
      ]
    },
    {
      "cell_type": "code",
      "metadata": {
        "id": "wA5hcUEYpov5"
      },
      "source": [
        "# Лографимуем, так как цена более зависима \r\n",
        "features_train['log_price'] = features_train['lot_price'].apply(np.log)\r\n",
        "features_test['log_price'] = features_test['lot_price'].apply(np.log)"
      ],
      "execution_count": 23,
      "outputs": []
    },
    {
      "cell_type": "code",
      "metadata": {
        "id": "n1C3u8Pm6Sdm"
      },
      "source": [
        "# максимум, минимум, среднее, медианное значение трейновых фич\r\n",
        "okpd2_group_train = features_train\r\n",
        "okpd2_group_train = okpd2_group_train.groupby('okpd2_main').apply(lambda x: [list(x['pn_lot_anon']),list(x['fz']), list(x['region_code']),list(x['lot_price'])]).apply(pd.Series)\r\n",
        "okpd2_group_train = okpd2_group_train.reset_index()\r\n",
        "okpd2_group_train.columns = ['okpd2_main', 'participant_pn_lot_anon', 'list_fz', 'list_region_code','lot_price']\r\n",
        "okpd2_group_train = okpd2_group_train.set_index('okpd2_main')\r\n",
        "okpd2_groups_train = list(okpd2_group_train.index)\r\n",
        "okpd2_price_train = pd.DataFrame(index=okpd2_groups_train,columns=[['maximum','minimum','mean','median','std','var']])\r\n",
        "for i in range(0,len(okpd2_groups_train)):\r\n",
        "  okpd2_price_train.iloc[i]['maximum'] = max(okpd2_group_train.iloc[i]['lot_price'])\r\n",
        "  okpd2_price_train.iloc[i]['minimum'] = min(okpd2_group_train.iloc[i]['lot_price'])\r\n",
        "  okpd2_price_train.iloc[i]['mean'] = np.mean(okpd2_group_train.iloc[i]['lot_price'])\r\n",
        "  okpd2_price_train.iloc[i]['median'] = np.median(okpd2_group_train.iloc[i]['lot_price'])\r\n",
        "  okpd2_price_train.iloc[i]['std'] = np.std(okpd2_group_train.iloc[i]['lot_price'])\r\n",
        "  okpd2_price_train.iloc[i]['var'] = np.var(okpd2_group_train.iloc[i]['lot_price'])"
      ],
      "execution_count": 24,
      "outputs": []
    },
    {
      "cell_type": "code",
      "metadata": {
        "id": "1gXizEDJ_LAw"
      },
      "source": [
        "# максимум, минимум, среднее, медианное значение тестовых фич\r\n",
        "okpd2_group_test = features_test\r\n",
        "okpd2_group_test = okpd2_group_test.groupby('okpd2_main').apply(lambda x: [list(x['pn_lot_anon']),list(x['fz']), list(x['region_code']),list(x['lot_price'])]).apply(pd.Series)\r\n",
        "okpd2_group_test = okpd2_group_test.reset_index()\r\n",
        "okpd2_group_test.columns = ['okpd2_main', 'participant_pn_lot_anon', 'list_fz', 'list_region_code','lot_price']\r\n",
        "okpd2_group_test = okpd2_group_test.set_index('okpd2_main')\r\n",
        "okpd2_groups_test = list(okpd2_group_test.index)\r\n",
        "okpd2_price_test = pd.DataFrame(index=okpd2_groups_test,columns=[['maximum','minimum','mean','median','std','var']])\r\n",
        "for i in range(0,len(okpd2_groups_test)):\r\n",
        "  okpd2_price_test.iloc[i]['maximum'] = max(okpd2_group_test.iloc[i]['lot_price'])\r\n",
        "  okpd2_price_test.iloc[i]['minimum'] = min(okpd2_group_test.iloc[i]['lot_price'])\r\n",
        "  okpd2_price_test.iloc[i]['mean'] = np.mean(okpd2_group_test.iloc[i]['lot_price'])\r\n",
        "  okpd2_price_test.iloc[i]['median'] = np.median(okpd2_group_test.iloc[i]['lot_price'])\r\n",
        "  okpd2_price_test.iloc[i]['std'] = np.std(okpd2_group_test.iloc[i]['lot_price'])\r\n",
        "  okpd2_price_test.iloc[i]['var'] = np.var(okpd2_group_test.iloc[i]['lot_price'])"
      ],
      "execution_count": 25,
      "outputs": []
    },
    {
      "cell_type": "code",
      "metadata": {
        "id": "xAS5k5roHpjK"
      },
      "source": [
        "def mergeTwoByCode(first, second):\r\n",
        "    result = np.empty([first.shape[0], 6], dtype=float)\r\n",
        "    find_index = second.index\r\n",
        "    get = [None] * 100\r\n",
        "    for i in range(len(second.index)):\r\n",
        "        get[int(find_index[i])] = second.iloc[i].array\r\n",
        "    for i in range(len(first.index)):\r\n",
        "        value = first.iloc[i]['okpd2_main']\r\n",
        "        result[i] = get[int(value)]\r\n",
        "    df2 = pd.DataFrame(result, columns=['maximum','minimum','mean','median','std','var'])\r\n",
        "    return pd.concat([first.reset_index(), df2], axis=1)"
      ],
      "execution_count": 26,
      "outputs": []
    },
    {
      "cell_type": "code",
      "metadata": {
        "id": "nlj9zqF4VAJA"
      },
      "source": [
        "features_train = mergeTwoByCode(features_train,okpd2_price_train)"
      ],
      "execution_count": 27,
      "outputs": []
    },
    {
      "cell_type": "code",
      "metadata": {
        "id": "TiKWQKbpkBzr"
      },
      "source": [
        "features_test = mergeTwoByCode(features_test,okpd2_price_test)"
      ],
      "execution_count": 28,
      "outputs": []
    },
    {
      "cell_type": "code",
      "metadata": {
        "id": "Hd2UQHKwwbWv"
      },
      "source": [
        "# Отличие цены лота от максимума цены для любого лота из okpd2 данного лота\r\n",
        "features_train['difference_maximum'] = features_train['lot_price']-features_train['maximum']\r\n",
        "features_test['difference_maximum']  = features_test['lot_price']-features_test['maximum']"
      ],
      "execution_count": 29,
      "outputs": []
    },
    {
      "cell_type": "code",
      "metadata": {
        "id": "BZ39vlqswbZP"
      },
      "source": [
        "# Отличие цены лота от минимума цены для любого лота из okpd2 данного лота\r\n",
        "features_train['difference_minimum'] = features_train['lot_price']-features_train['minimum']\r\n",
        "features_test['difference_minimum']  = features_test['lot_price']-features_test['minimum']"
      ],
      "execution_count": 30,
      "outputs": []
    },
    {
      "cell_type": "code",
      "metadata": {
        "id": "KpayYoBSwbbe"
      },
      "source": [
        "# Отличие цены лота от средней цены для любого лота из okpd2 данного лота\r\n",
        "features_train['difference_mean'] = features_train['lot_price']-features_train['mean']\r\n",
        "features_test['difference_mean']  = features_test['lot_price']-features_test['mean']"
      ],
      "execution_count": 31,
      "outputs": []
    },
    {
      "cell_type": "code",
      "metadata": {
        "id": "vfJVbOPOwbd0"
      },
      "source": [
        "# Отличие цены лота от медианной цены для любого лота\r\n",
        "features_train['difference_median'] = features_train['lot_price']-features_train['median']\r\n",
        "features_test['difference_median']  = features_test['lot_price']-features_test['median']"
      ],
      "execution_count": 32,
      "outputs": []
    },
    {
      "cell_type": "code",
      "metadata": {
        "id": "DI553ETFLRs2"
      },
      "source": [
        "# Отличие цены лота от std цены для любого лота\r\n",
        "features_train['difference_std'] = features_train['lot_price']-features_train['std']\r\n",
        "features_test['difference_std']  = features_test['lot_price']-features_test['std']"
      ],
      "execution_count": 33,
      "outputs": []
    },
    {
      "cell_type": "code",
      "metadata": {
        "id": "mMP1K8gLLRu3"
      },
      "source": [
        "# Отличие цены лота от var цены для любого лота\r\n",
        "features_train['difference_var'] = features_train['lot_price']-features_train['var']\r\n",
        "features_test['difference_var']  = features_test['lot_price']-features_test['var']"
      ],
      "execution_count": 34,
      "outputs": []
    },
    {
      "cell_type": "code",
      "metadata": {
        "id": "g_2W2E6tk9lL",
        "colab": {
          "base_uri": "https://localhost:8080/",
          "height": 162
        },
        "outputId": "262057ef-28b3-40e1-8eaf-74fbf0077174"
      },
      "source": [
        "features_train.head(3)"
      ],
      "execution_count": 35,
      "outputs": [
        {
          "output_type": "execute_result",
          "data": {
            "text/html": [
              "<div>\n",
              "<style scoped>\n",
              "    .dataframe tbody tr th:only-of-type {\n",
              "        vertical-align: middle;\n",
              "    }\n",
              "\n",
              "    .dataframe tbody tr th {\n",
              "        vertical-align: top;\n",
              "    }\n",
              "\n",
              "    .dataframe thead th {\n",
              "        text-align: right;\n",
              "    }\n",
              "</style>\n",
              "<table border=\"1\" class=\"dataframe\">\n",
              "  <thead>\n",
              "    <tr style=\"text-align: right;\">\n",
              "      <th></th>\n",
              "      <th>index</th>\n",
              "      <th>pn_lot_anon</th>\n",
              "      <th>fz</th>\n",
              "      <th>region_code</th>\n",
              "      <th>lot_price</th>\n",
              "      <th>okpd2_main</th>\n",
              "      <th>okpd2_second</th>\n",
              "      <th>data_delta</th>\n",
              "      <th>log_price</th>\n",
              "      <th>maximum</th>\n",
              "      <th>minimum</th>\n",
              "      <th>mean</th>\n",
              "      <th>median</th>\n",
              "      <th>std</th>\n",
              "      <th>var</th>\n",
              "      <th>difference_maximum</th>\n",
              "      <th>difference_minimum</th>\n",
              "      <th>difference_mean</th>\n",
              "      <th>difference_median</th>\n",
              "      <th>difference_std</th>\n",
              "      <th>difference_var</th>\n",
              "    </tr>\n",
              "  </thead>\n",
              "  <tbody>\n",
              "    <tr>\n",
              "      <th>0</th>\n",
              "      <td>0</td>\n",
              "      <td>pn_lot_7031618</td>\n",
              "      <td>0</td>\n",
              "      <td>2</td>\n",
              "      <td>123500.0</td>\n",
              "      <td>69.0</td>\n",
              "      <td>20.0</td>\n",
              "      <td>529</td>\n",
              "      <td>11.723996</td>\n",
              "      <td>4.236000e+08</td>\n",
              "      <td>1.00</td>\n",
              "      <td>3.406165e+06</td>\n",
              "      <td>338200.0</td>\n",
              "      <td>1.685227e+07</td>\n",
              "      <td>2.839989e+14</td>\n",
              "      <td>-4.234765e+08</td>\n",
              "      <td>123499.00</td>\n",
              "      <td>-3.282665e+06</td>\n",
              "      <td>-214700.0</td>\n",
              "      <td>-1.672877e+07</td>\n",
              "      <td>-2.839989e+14</td>\n",
              "    </tr>\n",
              "    <tr>\n",
              "      <th>1</th>\n",
              "      <td>1</td>\n",
              "      <td>pn_lot_7808247</td>\n",
              "      <td>0</td>\n",
              "      <td>2</td>\n",
              "      <td>144000.0</td>\n",
              "      <td>26.0</td>\n",
              "      <td>40.0</td>\n",
              "      <td>696</td>\n",
              "      <td>11.877569</td>\n",
              "      <td>4.334571e+09</td>\n",
              "      <td>546.66</td>\n",
              "      <td>3.071054e+06</td>\n",
              "      <td>315000.0</td>\n",
              "      <td>3.631111e+07</td>\n",
              "      <td>1.318497e+15</td>\n",
              "      <td>-4.334427e+09</td>\n",
              "      <td>143453.34</td>\n",
              "      <td>-2.927054e+06</td>\n",
              "      <td>-171000.0</td>\n",
              "      <td>-3.616711e+07</td>\n",
              "      <td>-1.318497e+15</td>\n",
              "    </tr>\n",
              "    <tr>\n",
              "      <th>2</th>\n",
              "      <td>2</td>\n",
              "      <td>pn_lot_7009496</td>\n",
              "      <td>0</td>\n",
              "      <td>2</td>\n",
              "      <td>124200.0</td>\n",
              "      <td>26.0</td>\n",
              "      <td>20.0</td>\n",
              "      <td>694</td>\n",
              "      <td>11.729648</td>\n",
              "      <td>4.334571e+09</td>\n",
              "      <td>546.66</td>\n",
              "      <td>3.071054e+06</td>\n",
              "      <td>315000.0</td>\n",
              "      <td>3.631111e+07</td>\n",
              "      <td>1.318497e+15</td>\n",
              "      <td>-4.334447e+09</td>\n",
              "      <td>123653.34</td>\n",
              "      <td>-2.946854e+06</td>\n",
              "      <td>-190800.0</td>\n",
              "      <td>-3.618691e+07</td>\n",
              "      <td>-1.318497e+15</td>\n",
              "    </tr>\n",
              "  </tbody>\n",
              "</table>\n",
              "</div>"
            ],
            "text/plain": [
              "   index     pn_lot_anon  fz  ...  difference_median  difference_std  difference_var\n",
              "0      0  pn_lot_7031618   0  ...          -214700.0   -1.672877e+07   -2.839989e+14\n",
              "1      1  pn_lot_7808247   0  ...          -171000.0   -3.616711e+07   -1.318497e+15\n",
              "2      2  pn_lot_7009496   0  ...          -190800.0   -3.618691e+07   -1.318497e+15\n",
              "\n",
              "[3 rows x 21 columns]"
            ]
          },
          "metadata": {
            "tags": []
          },
          "execution_count": 35
        }
      ]
    },
    {
      "cell_type": "code",
      "metadata": {
        "id": "JDhe27yvt45T",
        "colab": {
          "base_uri": "https://localhost:8080/",
          "height": 162
        },
        "outputId": "8cba7d6f-0c0e-4e95-c6fc-50d8748a1699"
      },
      "source": [
        "features_test.head(3)"
      ],
      "execution_count": 36,
      "outputs": [
        {
          "output_type": "execute_result",
          "data": {
            "text/html": [
              "<div>\n",
              "<style scoped>\n",
              "    .dataframe tbody tr th:only-of-type {\n",
              "        vertical-align: middle;\n",
              "    }\n",
              "\n",
              "    .dataframe tbody tr th {\n",
              "        vertical-align: top;\n",
              "    }\n",
              "\n",
              "    .dataframe thead th {\n",
              "        text-align: right;\n",
              "    }\n",
              "</style>\n",
              "<table border=\"1\" class=\"dataframe\">\n",
              "  <thead>\n",
              "    <tr style=\"text-align: right;\">\n",
              "      <th></th>\n",
              "      <th>index</th>\n",
              "      <th>pn_lot_anon</th>\n",
              "      <th>fz</th>\n",
              "      <th>region_code</th>\n",
              "      <th>lot_price</th>\n",
              "      <th>okpd2_main</th>\n",
              "      <th>okpd2_second</th>\n",
              "      <th>data_delta</th>\n",
              "      <th>log_price</th>\n",
              "      <th>maximum</th>\n",
              "      <th>minimum</th>\n",
              "      <th>mean</th>\n",
              "      <th>median</th>\n",
              "      <th>std</th>\n",
              "      <th>var</th>\n",
              "      <th>difference_maximum</th>\n",
              "      <th>difference_minimum</th>\n",
              "      <th>difference_mean</th>\n",
              "      <th>difference_median</th>\n",
              "      <th>difference_std</th>\n",
              "      <th>difference_var</th>\n",
              "    </tr>\n",
              "  </thead>\n",
              "  <tbody>\n",
              "    <tr>\n",
              "      <th>0</th>\n",
              "      <td>0</td>\n",
              "      <td>pn_lot_2889061</td>\n",
              "      <td>0</td>\n",
              "      <td>2</td>\n",
              "      <td>135000.00</td>\n",
              "      <td>69.0</td>\n",
              "      <td>20.0</td>\n",
              "      <td>102</td>\n",
              "      <td>11.813030</td>\n",
              "      <td>2.460000e+07</td>\n",
              "      <td>38872.66</td>\n",
              "      <td>2.147561e+06</td>\n",
              "      <td>513333.33</td>\n",
              "      <td>3.690514e+06</td>\n",
              "      <td>1.361990e+13</td>\n",
              "      <td>-2.446500e+07</td>\n",
              "      <td>96127.34</td>\n",
              "      <td>-2.012561e+06</td>\n",
              "      <td>-378333.33</td>\n",
              "      <td>-3.555514e+06</td>\n",
              "      <td>-1.361990e+13</td>\n",
              "    </tr>\n",
              "    <tr>\n",
              "      <th>1</th>\n",
              "      <td>1</td>\n",
              "      <td>pn_lot_5769273</td>\n",
              "      <td>0</td>\n",
              "      <td>2</td>\n",
              "      <td>1474449.27</td>\n",
              "      <td>31.0</td>\n",
              "      <td>0.0</td>\n",
              "      <td>247</td>\n",
              "      <td>14.203795</td>\n",
              "      <td>9.720704e+07</td>\n",
              "      <td>4640.00</td>\n",
              "      <td>1.496817e+06</td>\n",
              "      <td>422826.70</td>\n",
              "      <td>4.764893e+06</td>\n",
              "      <td>2.270421e+13</td>\n",
              "      <td>-9.573259e+07</td>\n",
              "      <td>1469809.27</td>\n",
              "      <td>-2.236807e+04</td>\n",
              "      <td>1051622.57</td>\n",
              "      <td>-3.290444e+06</td>\n",
              "      <td>-2.270421e+13</td>\n",
              "    </tr>\n",
              "    <tr>\n",
              "      <th>2</th>\n",
              "      <td>2</td>\n",
              "      <td>pn_lot_3605798</td>\n",
              "      <td>0</td>\n",
              "      <td>2</td>\n",
              "      <td>1053275.46</td>\n",
              "      <td>58.0</td>\n",
              "      <td>20.0</td>\n",
              "      <td>247</td>\n",
              "      <td>13.867415</td>\n",
              "      <td>6.132701e+08</td>\n",
              "      <td>1343.75</td>\n",
              "      <td>1.958969e+06</td>\n",
              "      <td>179866.66</td>\n",
              "      <td>2.077051e+07</td>\n",
              "      <td>4.314139e+14</td>\n",
              "      <td>-6.122169e+08</td>\n",
              "      <td>1051931.71</td>\n",
              "      <td>-9.056938e+05</td>\n",
              "      <td>873408.80</td>\n",
              "      <td>-1.971723e+07</td>\n",
              "      <td>-4.314139e+14</td>\n",
              "    </tr>\n",
              "  </tbody>\n",
              "</table>\n",
              "</div>"
            ],
            "text/plain": [
              "   index     pn_lot_anon  fz  ...  difference_median  difference_std  difference_var\n",
              "0      0  pn_lot_2889061   0  ...         -378333.33   -3.555514e+06   -1.361990e+13\n",
              "1      1  pn_lot_5769273   0  ...         1051622.57   -3.290444e+06   -2.270421e+13\n",
              "2      2  pn_lot_3605798   0  ...          873408.80   -1.971723e+07   -4.314139e+14\n",
              "\n",
              "[3 rows x 21 columns]"
            ]
          },
          "metadata": {
            "tags": []
          },
          "execution_count": 36
        }
      ]
    },
    {
      "cell_type": "code",
      "metadata": {
        "id": "ZZl20z1EuOqm"
      },
      "source": [
        "del features_train['index']\r\n",
        "del features_test['index']"
      ],
      "execution_count": 37,
      "outputs": []
    },
    {
      "cell_type": "markdown",
      "metadata": {
        "id": "Jjo01lHZjo5H"
      },
      "source": [
        "<hr>"
      ]
    },
    {
      "cell_type": "markdown",
      "metadata": {
        "id": "jzN6afeQjo5J"
      },
      "source": [
        "#### Формирование описания тендера"
      ]
    },
    {
      "cell_type": "code",
      "metadata": {
        "id": "2WQD7401EfgU"
      },
      "source": [
        "#все инн\r\n",
        "inn_kpps = set(train_labels['participant_inn_kpp_anon'])\r\n",
        "#все лоты\r\n",
        "pn_lots = set(train_data['pn_lot_anon'])"
      ],
      "execution_count": 38,
      "outputs": []
    },
    {
      "cell_type": "code",
      "metadata": {
        "id": "dMJ6WVS7p13C"
      },
      "source": [
        "inn_kpp_history_train = pd.merge(train_labels, features_train[['pn_lot_anon','region_code', 'okpd2_main']], on=['pn_lot_anon'])\r\n",
        "inn_kpp_history_train = inn_kpp_history_train.groupby('participant_inn_kpp_anon').apply(lambda x: [list(x['pn_lot_anon']),list(x['is_winner']), list(x['fz']), list(x['region_code']), list(x['okpd2_main'])]).apply(pd.Series)\r\n",
        "inn_kpp_history_train = inn_kpp_history_train.reset_index()\r\n",
        "inn_kpp_history_train.columns = ['participant_pn_lot_anon', 'list_participant_inn_kpp_anon','list_is_winner', 'list_fz', 'list_region_code','list_okpd2_main']"
      ],
      "execution_count": 39,
      "outputs": []
    },
    {
      "cell_type": "code",
      "metadata": {
        "id": "zEdgozpLhSP3"
      },
      "source": [
        "features_train = features_train.set_index('pn_lot_anon')\r\n",
        "features_test = features_test.set_index('pn_lot_anon')"
      ],
      "execution_count": 40,
      "outputs": []
    },
    {
      "cell_type": "markdown",
      "metadata": {
        "id": "jiNLRUzqzLhm"
      },
      "source": [
        "Смотрим на данные, все проверяем\r\n"
      ]
    },
    {
      "cell_type": "code",
      "metadata": {
        "id": "13SZgiZ3zKgH",
        "colab": {
          "base_uri": "https://localhost:8080/",
          "height": 470
        },
        "outputId": "3d0277be-598a-40c8-eaea-13c3290b258c"
      },
      "source": [
        "features_train"
      ],
      "execution_count": 41,
      "outputs": [
        {
          "output_type": "execute_result",
          "data": {
            "text/html": [
              "<div>\n",
              "<style scoped>\n",
              "    .dataframe tbody tr th:only-of-type {\n",
              "        vertical-align: middle;\n",
              "    }\n",
              "\n",
              "    .dataframe tbody tr th {\n",
              "        vertical-align: top;\n",
              "    }\n",
              "\n",
              "    .dataframe thead th {\n",
              "        text-align: right;\n",
              "    }\n",
              "</style>\n",
              "<table border=\"1\" class=\"dataframe\">\n",
              "  <thead>\n",
              "    <tr style=\"text-align: right;\">\n",
              "      <th></th>\n",
              "      <th>fz</th>\n",
              "      <th>region_code</th>\n",
              "      <th>lot_price</th>\n",
              "      <th>okpd2_main</th>\n",
              "      <th>okpd2_second</th>\n",
              "      <th>data_delta</th>\n",
              "      <th>log_price</th>\n",
              "      <th>maximum</th>\n",
              "      <th>minimum</th>\n",
              "      <th>mean</th>\n",
              "      <th>median</th>\n",
              "      <th>std</th>\n",
              "      <th>var</th>\n",
              "      <th>difference_maximum</th>\n",
              "      <th>difference_minimum</th>\n",
              "      <th>difference_mean</th>\n",
              "      <th>difference_median</th>\n",
              "      <th>difference_std</th>\n",
              "      <th>difference_var</th>\n",
              "    </tr>\n",
              "    <tr>\n",
              "      <th>pn_lot_anon</th>\n",
              "      <th></th>\n",
              "      <th></th>\n",
              "      <th></th>\n",
              "      <th></th>\n",
              "      <th></th>\n",
              "      <th></th>\n",
              "      <th></th>\n",
              "      <th></th>\n",
              "      <th></th>\n",
              "      <th></th>\n",
              "      <th></th>\n",
              "      <th></th>\n",
              "      <th></th>\n",
              "      <th></th>\n",
              "      <th></th>\n",
              "      <th></th>\n",
              "      <th></th>\n",
              "      <th></th>\n",
              "      <th></th>\n",
              "    </tr>\n",
              "  </thead>\n",
              "  <tbody>\n",
              "    <tr>\n",
              "      <th>pn_lot_7031618</th>\n",
              "      <td>0</td>\n",
              "      <td>2</td>\n",
              "      <td>123500.0</td>\n",
              "      <td>69.0</td>\n",
              "      <td>20.0</td>\n",
              "      <td>529</td>\n",
              "      <td>11.723996</td>\n",
              "      <td>4.236000e+08</td>\n",
              "      <td>1.00</td>\n",
              "      <td>3.406165e+06</td>\n",
              "      <td>338200.0</td>\n",
              "      <td>1.685227e+07</td>\n",
              "      <td>2.839989e+14</td>\n",
              "      <td>-4.234765e+08</td>\n",
              "      <td>123499.00</td>\n",
              "      <td>-3.282665e+06</td>\n",
              "      <td>-214700.0</td>\n",
              "      <td>-1.672877e+07</td>\n",
              "      <td>-2.839989e+14</td>\n",
              "    </tr>\n",
              "    <tr>\n",
              "      <th>pn_lot_7808247</th>\n",
              "      <td>0</td>\n",
              "      <td>2</td>\n",
              "      <td>144000.0</td>\n",
              "      <td>26.0</td>\n",
              "      <td>40.0</td>\n",
              "      <td>696</td>\n",
              "      <td>11.877569</td>\n",
              "      <td>4.334571e+09</td>\n",
              "      <td>546.66</td>\n",
              "      <td>3.071054e+06</td>\n",
              "      <td>315000.0</td>\n",
              "      <td>3.631111e+07</td>\n",
              "      <td>1.318497e+15</td>\n",
              "      <td>-4.334427e+09</td>\n",
              "      <td>143453.34</td>\n",
              "      <td>-2.927054e+06</td>\n",
              "      <td>-171000.0</td>\n",
              "      <td>-3.616711e+07</td>\n",
              "      <td>-1.318497e+15</td>\n",
              "    </tr>\n",
              "    <tr>\n",
              "      <th>pn_lot_7009496</th>\n",
              "      <td>0</td>\n",
              "      <td>2</td>\n",
              "      <td>124200.0</td>\n",
              "      <td>26.0</td>\n",
              "      <td>20.0</td>\n",
              "      <td>694</td>\n",
              "      <td>11.729648</td>\n",
              "      <td>4.334571e+09</td>\n",
              "      <td>546.66</td>\n",
              "      <td>3.071054e+06</td>\n",
              "      <td>315000.0</td>\n",
              "      <td>3.631111e+07</td>\n",
              "      <td>1.318497e+15</td>\n",
              "      <td>-4.334447e+09</td>\n",
              "      <td>123653.34</td>\n",
              "      <td>-2.946854e+06</td>\n",
              "      <td>-190800.0</td>\n",
              "      <td>-3.618691e+07</td>\n",
              "      <td>-1.318497e+15</td>\n",
              "    </tr>\n",
              "    <tr>\n",
              "      <th>pn_lot_5938735</th>\n",
              "      <td>0</td>\n",
              "      <td>2</td>\n",
              "      <td>50000.0</td>\n",
              "      <td>46.0</td>\n",
              "      <td>50.0</td>\n",
              "      <td>694</td>\n",
              "      <td>10.819778</td>\n",
              "      <td>3.728994e+10</td>\n",
              "      <td>0.01</td>\n",
              "      <td>1.073102e+07</td>\n",
              "      <td>631957.5</td>\n",
              "      <td>3.665663e+08</td>\n",
              "      <td>1.343708e+17</td>\n",
              "      <td>-3.728989e+10</td>\n",
              "      <td>49999.99</td>\n",
              "      <td>-1.068102e+07</td>\n",
              "      <td>-581957.5</td>\n",
              "      <td>-3.665163e+08</td>\n",
              "      <td>-1.343708e+17</td>\n",
              "    </tr>\n",
              "    <tr>\n",
              "      <th>pn_lot_9327348</th>\n",
              "      <td>0</td>\n",
              "      <td>2</td>\n",
              "      <td>493441.0</td>\n",
              "      <td>26.0</td>\n",
              "      <td>20.0</td>\n",
              "      <td>590</td>\n",
              "      <td>13.109159</td>\n",
              "      <td>4.334571e+09</td>\n",
              "      <td>546.66</td>\n",
              "      <td>3.071054e+06</td>\n",
              "      <td>315000.0</td>\n",
              "      <td>3.631111e+07</td>\n",
              "      <td>1.318497e+15</td>\n",
              "      <td>-4.334078e+09</td>\n",
              "      <td>492894.34</td>\n",
              "      <td>-2.577613e+06</td>\n",
              "      <td>178441.0</td>\n",
              "      <td>-3.581767e+07</td>\n",
              "      <td>-1.318497e+15</td>\n",
              "    </tr>\n",
              "    <tr>\n",
              "      <th>...</th>\n",
              "      <td>...</td>\n",
              "      <td>...</td>\n",
              "      <td>...</td>\n",
              "      <td>...</td>\n",
              "      <td>...</td>\n",
              "      <td>...</td>\n",
              "      <td>...</td>\n",
              "      <td>...</td>\n",
              "      <td>...</td>\n",
              "      <td>...</td>\n",
              "      <td>...</td>\n",
              "      <td>...</td>\n",
              "      <td>...</td>\n",
              "      <td>...</td>\n",
              "      <td>...</td>\n",
              "      <td>...</td>\n",
              "      <td>...</td>\n",
              "      <td>...</td>\n",
              "      <td>...</td>\n",
              "    </tr>\n",
              "    <tr>\n",
              "      <th>pn_lot_2387328</th>\n",
              "      <td>0</td>\n",
              "      <td>44</td>\n",
              "      <td>100.0</td>\n",
              "      <td>6.0</td>\n",
              "      <td>10.0</td>\n",
              "      <td>708</td>\n",
              "      <td>4.605170</td>\n",
              "      <td>2.256641e+08</td>\n",
              "      <td>1.00</td>\n",
              "      <td>5.562163e+06</td>\n",
              "      <td>364000.0</td>\n",
              "      <td>3.037365e+07</td>\n",
              "      <td>9.225585e+14</td>\n",
              "      <td>-2.256640e+08</td>\n",
              "      <td>99.00</td>\n",
              "      <td>-5.562063e+06</td>\n",
              "      <td>-363900.0</td>\n",
              "      <td>-3.037355e+07</td>\n",
              "      <td>-9.225585e+14</td>\n",
              "    </tr>\n",
              "    <tr>\n",
              "      <th>pn_lot_2416734</th>\n",
              "      <td>0</td>\n",
              "      <td>44</td>\n",
              "      <td>100.0</td>\n",
              "      <td>6.0</td>\n",
              "      <td>10.0</td>\n",
              "      <td>703</td>\n",
              "      <td>4.605170</td>\n",
              "      <td>2.256641e+08</td>\n",
              "      <td>1.00</td>\n",
              "      <td>5.562163e+06</td>\n",
              "      <td>364000.0</td>\n",
              "      <td>3.037365e+07</td>\n",
              "      <td>9.225585e+14</td>\n",
              "      <td>-2.256640e+08</td>\n",
              "      <td>99.00</td>\n",
              "      <td>-5.562063e+06</td>\n",
              "      <td>-363900.0</td>\n",
              "      <td>-3.037355e+07</td>\n",
              "      <td>-9.225585e+14</td>\n",
              "    </tr>\n",
              "    <tr>\n",
              "      <th>pn_lot_1607958</th>\n",
              "      <td>0</td>\n",
              "      <td>44</td>\n",
              "      <td>100.0</td>\n",
              "      <td>6.0</td>\n",
              "      <td>10.0</td>\n",
              "      <td>689</td>\n",
              "      <td>4.605170</td>\n",
              "      <td>2.256641e+08</td>\n",
              "      <td>1.00</td>\n",
              "      <td>5.562163e+06</td>\n",
              "      <td>364000.0</td>\n",
              "      <td>3.037365e+07</td>\n",
              "      <td>9.225585e+14</td>\n",
              "      <td>-2.256640e+08</td>\n",
              "      <td>99.00</td>\n",
              "      <td>-5.562063e+06</td>\n",
              "      <td>-363900.0</td>\n",
              "      <td>-3.037355e+07</td>\n",
              "      <td>-9.225585e+14</td>\n",
              "    </tr>\n",
              "    <tr>\n",
              "      <th>pn_lot_8820511</th>\n",
              "      <td>0</td>\n",
              "      <td>44</td>\n",
              "      <td>100.0</td>\n",
              "      <td>6.0</td>\n",
              "      <td>10.0</td>\n",
              "      <td>680</td>\n",
              "      <td>4.605170</td>\n",
              "      <td>2.256641e+08</td>\n",
              "      <td>1.00</td>\n",
              "      <td>5.562163e+06</td>\n",
              "      <td>364000.0</td>\n",
              "      <td>3.037365e+07</td>\n",
              "      <td>9.225585e+14</td>\n",
              "      <td>-2.256640e+08</td>\n",
              "      <td>99.00</td>\n",
              "      <td>-5.562063e+06</td>\n",
              "      <td>-363900.0</td>\n",
              "      <td>-3.037355e+07</td>\n",
              "      <td>-9.225585e+14</td>\n",
              "    </tr>\n",
              "    <tr>\n",
              "      <th>pn_lot_2852669</th>\n",
              "      <td>0</td>\n",
              "      <td>44</td>\n",
              "      <td>25000.0</td>\n",
              "      <td>62.0</td>\n",
              "      <td>0.0</td>\n",
              "      <td>586</td>\n",
              "      <td>10.126631</td>\n",
              "      <td>1.500000e+10</td>\n",
              "      <td>2833.33</td>\n",
              "      <td>1.078556e+07</td>\n",
              "      <td>305978.8</td>\n",
              "      <td>1.694074e+08</td>\n",
              "      <td>2.869887e+16</td>\n",
              "      <td>-1.499998e+10</td>\n",
              "      <td>22166.67</td>\n",
              "      <td>-1.076056e+07</td>\n",
              "      <td>-280978.8</td>\n",
              "      <td>-1.693824e+08</td>\n",
              "      <td>-2.869887e+16</td>\n",
              "    </tr>\n",
              "  </tbody>\n",
              "</table>\n",
              "<p>778121 rows × 19 columns</p>\n",
              "</div>"
            ],
            "text/plain": [
              "                fz  region_code  ...  difference_std  difference_var\n",
              "pn_lot_anon                      ...                                \n",
              "pn_lot_7031618   0            2  ...   -1.672877e+07   -2.839989e+14\n",
              "pn_lot_7808247   0            2  ...   -3.616711e+07   -1.318497e+15\n",
              "pn_lot_7009496   0            2  ...   -3.618691e+07   -1.318497e+15\n",
              "pn_lot_5938735   0            2  ...   -3.665163e+08   -1.343708e+17\n",
              "pn_lot_9327348   0            2  ...   -3.581767e+07   -1.318497e+15\n",
              "...             ..          ...  ...             ...             ...\n",
              "pn_lot_2387328   0           44  ...   -3.037355e+07   -9.225585e+14\n",
              "pn_lot_2416734   0           44  ...   -3.037355e+07   -9.225585e+14\n",
              "pn_lot_1607958   0           44  ...   -3.037355e+07   -9.225585e+14\n",
              "pn_lot_8820511   0           44  ...   -3.037355e+07   -9.225585e+14\n",
              "pn_lot_2852669   0           44  ...   -1.693824e+08   -2.869887e+16\n",
              "\n",
              "[778121 rows x 19 columns]"
            ]
          },
          "metadata": {
            "tags": []
          },
          "execution_count": 41
        }
      ]
    },
    {
      "cell_type": "markdown",
      "metadata": {
        "id": "2c2RQbNCyzVd"
      },
      "source": [
        "# Классификация и тренировка для каждой организации отдельно"
      ]
    },
    {
      "cell_type": "code",
      "metadata": {
        "id": "CCM4zhKoy_qx",
        "colab": {
          "base_uri": "https://localhost:8080/"
        },
        "outputId": "f34d754f-3ef6-404f-96fe-cde5bff41311"
      },
      "source": [
        "# Скачиваем библиотеки \r\n",
        "!pip install catboost\r\n",
        "import sklearn\r\n",
        "from sklearn.model_selection import train_test_split\r\n",
        "import time\r\n",
        "import random\r\n",
        "from catboost import CatBoostClassifier, Pool"
      ],
      "execution_count": 42,
      "outputs": [
        {
          "output_type": "stream",
          "text": [
            "Requirement already satisfied: catboost in /usr/local/lib/python3.6/dist-packages (0.24.4)\n",
            "Requirement already satisfied: graphviz in /usr/local/lib/python3.6/dist-packages (from catboost) (0.10.1)\n",
            "Requirement already satisfied: plotly in /usr/local/lib/python3.6/dist-packages (from catboost) (4.4.1)\n",
            "Requirement already satisfied: scipy in /usr/local/lib/python3.6/dist-packages (from catboost) (1.4.1)\n",
            "Requirement already satisfied: pandas>=0.24.0 in /usr/local/lib/python3.6/dist-packages (from catboost) (1.1.5)\n",
            "Requirement already satisfied: matplotlib in /usr/local/lib/python3.6/dist-packages (from catboost) (3.2.2)\n",
            "Requirement already satisfied: numpy>=1.16.0 in /usr/local/lib/python3.6/dist-packages (from catboost) (1.19.5)\n",
            "Requirement already satisfied: six in /usr/local/lib/python3.6/dist-packages (from catboost) (1.15.0)\n",
            "Requirement already satisfied: retrying>=1.3.3 in /usr/local/lib/python3.6/dist-packages (from plotly->catboost) (1.3.3)\n",
            "Requirement already satisfied: pytz>=2017.2 in /usr/local/lib/python3.6/dist-packages (from pandas>=0.24.0->catboost) (2018.9)\n",
            "Requirement already satisfied: python-dateutil>=2.7.3 in /usr/local/lib/python3.6/dist-packages (from pandas>=0.24.0->catboost) (2.8.1)\n",
            "Requirement already satisfied: pyparsing!=2.0.4,!=2.1.2,!=2.1.6,>=2.0.1 in /usr/local/lib/python3.6/dist-packages (from matplotlib->catboost) (2.4.7)\n",
            "Requirement already satisfied: cycler>=0.10 in /usr/local/lib/python3.6/dist-packages (from matplotlib->catboost) (0.10.0)\n",
            "Requirement already satisfied: kiwisolver>=1.0.1 in /usr/local/lib/python3.6/dist-packages (from matplotlib->catboost) (1.3.1)\n"
          ],
          "name": "stdout"
        }
      ]
    },
    {
      "cell_type": "code",
      "metadata": {
        "id": "YH3y_6RiNaPV",
        "colab": {
          "base_uri": "https://localhost:8080/",
          "height": 470
        },
        "outputId": "0c6bfe25-d36c-4135-a39b-3afa35c88c21"
      },
      "source": [
        "features_train"
      ],
      "execution_count": 43,
      "outputs": [
        {
          "output_type": "execute_result",
          "data": {
            "text/html": [
              "<div>\n",
              "<style scoped>\n",
              "    .dataframe tbody tr th:only-of-type {\n",
              "        vertical-align: middle;\n",
              "    }\n",
              "\n",
              "    .dataframe tbody tr th {\n",
              "        vertical-align: top;\n",
              "    }\n",
              "\n",
              "    .dataframe thead th {\n",
              "        text-align: right;\n",
              "    }\n",
              "</style>\n",
              "<table border=\"1\" class=\"dataframe\">\n",
              "  <thead>\n",
              "    <tr style=\"text-align: right;\">\n",
              "      <th></th>\n",
              "      <th>fz</th>\n",
              "      <th>region_code</th>\n",
              "      <th>lot_price</th>\n",
              "      <th>okpd2_main</th>\n",
              "      <th>okpd2_second</th>\n",
              "      <th>data_delta</th>\n",
              "      <th>log_price</th>\n",
              "      <th>maximum</th>\n",
              "      <th>minimum</th>\n",
              "      <th>mean</th>\n",
              "      <th>median</th>\n",
              "      <th>std</th>\n",
              "      <th>var</th>\n",
              "      <th>difference_maximum</th>\n",
              "      <th>difference_minimum</th>\n",
              "      <th>difference_mean</th>\n",
              "      <th>difference_median</th>\n",
              "      <th>difference_std</th>\n",
              "      <th>difference_var</th>\n",
              "    </tr>\n",
              "    <tr>\n",
              "      <th>pn_lot_anon</th>\n",
              "      <th></th>\n",
              "      <th></th>\n",
              "      <th></th>\n",
              "      <th></th>\n",
              "      <th></th>\n",
              "      <th></th>\n",
              "      <th></th>\n",
              "      <th></th>\n",
              "      <th></th>\n",
              "      <th></th>\n",
              "      <th></th>\n",
              "      <th></th>\n",
              "      <th></th>\n",
              "      <th></th>\n",
              "      <th></th>\n",
              "      <th></th>\n",
              "      <th></th>\n",
              "      <th></th>\n",
              "      <th></th>\n",
              "    </tr>\n",
              "  </thead>\n",
              "  <tbody>\n",
              "    <tr>\n",
              "      <th>pn_lot_7031618</th>\n",
              "      <td>0</td>\n",
              "      <td>2</td>\n",
              "      <td>123500.0</td>\n",
              "      <td>69.0</td>\n",
              "      <td>20.0</td>\n",
              "      <td>529</td>\n",
              "      <td>11.723996</td>\n",
              "      <td>4.236000e+08</td>\n",
              "      <td>1.00</td>\n",
              "      <td>3.406165e+06</td>\n",
              "      <td>338200.0</td>\n",
              "      <td>1.685227e+07</td>\n",
              "      <td>2.839989e+14</td>\n",
              "      <td>-4.234765e+08</td>\n",
              "      <td>123499.00</td>\n",
              "      <td>-3.282665e+06</td>\n",
              "      <td>-214700.0</td>\n",
              "      <td>-1.672877e+07</td>\n",
              "      <td>-2.839989e+14</td>\n",
              "    </tr>\n",
              "    <tr>\n",
              "      <th>pn_lot_7808247</th>\n",
              "      <td>0</td>\n",
              "      <td>2</td>\n",
              "      <td>144000.0</td>\n",
              "      <td>26.0</td>\n",
              "      <td>40.0</td>\n",
              "      <td>696</td>\n",
              "      <td>11.877569</td>\n",
              "      <td>4.334571e+09</td>\n",
              "      <td>546.66</td>\n",
              "      <td>3.071054e+06</td>\n",
              "      <td>315000.0</td>\n",
              "      <td>3.631111e+07</td>\n",
              "      <td>1.318497e+15</td>\n",
              "      <td>-4.334427e+09</td>\n",
              "      <td>143453.34</td>\n",
              "      <td>-2.927054e+06</td>\n",
              "      <td>-171000.0</td>\n",
              "      <td>-3.616711e+07</td>\n",
              "      <td>-1.318497e+15</td>\n",
              "    </tr>\n",
              "    <tr>\n",
              "      <th>pn_lot_7009496</th>\n",
              "      <td>0</td>\n",
              "      <td>2</td>\n",
              "      <td>124200.0</td>\n",
              "      <td>26.0</td>\n",
              "      <td>20.0</td>\n",
              "      <td>694</td>\n",
              "      <td>11.729648</td>\n",
              "      <td>4.334571e+09</td>\n",
              "      <td>546.66</td>\n",
              "      <td>3.071054e+06</td>\n",
              "      <td>315000.0</td>\n",
              "      <td>3.631111e+07</td>\n",
              "      <td>1.318497e+15</td>\n",
              "      <td>-4.334447e+09</td>\n",
              "      <td>123653.34</td>\n",
              "      <td>-2.946854e+06</td>\n",
              "      <td>-190800.0</td>\n",
              "      <td>-3.618691e+07</td>\n",
              "      <td>-1.318497e+15</td>\n",
              "    </tr>\n",
              "    <tr>\n",
              "      <th>pn_lot_5938735</th>\n",
              "      <td>0</td>\n",
              "      <td>2</td>\n",
              "      <td>50000.0</td>\n",
              "      <td>46.0</td>\n",
              "      <td>50.0</td>\n",
              "      <td>694</td>\n",
              "      <td>10.819778</td>\n",
              "      <td>3.728994e+10</td>\n",
              "      <td>0.01</td>\n",
              "      <td>1.073102e+07</td>\n",
              "      <td>631957.5</td>\n",
              "      <td>3.665663e+08</td>\n",
              "      <td>1.343708e+17</td>\n",
              "      <td>-3.728989e+10</td>\n",
              "      <td>49999.99</td>\n",
              "      <td>-1.068102e+07</td>\n",
              "      <td>-581957.5</td>\n",
              "      <td>-3.665163e+08</td>\n",
              "      <td>-1.343708e+17</td>\n",
              "    </tr>\n",
              "    <tr>\n",
              "      <th>pn_lot_9327348</th>\n",
              "      <td>0</td>\n",
              "      <td>2</td>\n",
              "      <td>493441.0</td>\n",
              "      <td>26.0</td>\n",
              "      <td>20.0</td>\n",
              "      <td>590</td>\n",
              "      <td>13.109159</td>\n",
              "      <td>4.334571e+09</td>\n",
              "      <td>546.66</td>\n",
              "      <td>3.071054e+06</td>\n",
              "      <td>315000.0</td>\n",
              "      <td>3.631111e+07</td>\n",
              "      <td>1.318497e+15</td>\n",
              "      <td>-4.334078e+09</td>\n",
              "      <td>492894.34</td>\n",
              "      <td>-2.577613e+06</td>\n",
              "      <td>178441.0</td>\n",
              "      <td>-3.581767e+07</td>\n",
              "      <td>-1.318497e+15</td>\n",
              "    </tr>\n",
              "    <tr>\n",
              "      <th>...</th>\n",
              "      <td>...</td>\n",
              "      <td>...</td>\n",
              "      <td>...</td>\n",
              "      <td>...</td>\n",
              "      <td>...</td>\n",
              "      <td>...</td>\n",
              "      <td>...</td>\n",
              "      <td>...</td>\n",
              "      <td>...</td>\n",
              "      <td>...</td>\n",
              "      <td>...</td>\n",
              "      <td>...</td>\n",
              "      <td>...</td>\n",
              "      <td>...</td>\n",
              "      <td>...</td>\n",
              "      <td>...</td>\n",
              "      <td>...</td>\n",
              "      <td>...</td>\n",
              "      <td>...</td>\n",
              "    </tr>\n",
              "    <tr>\n",
              "      <th>pn_lot_2387328</th>\n",
              "      <td>0</td>\n",
              "      <td>44</td>\n",
              "      <td>100.0</td>\n",
              "      <td>6.0</td>\n",
              "      <td>10.0</td>\n",
              "      <td>708</td>\n",
              "      <td>4.605170</td>\n",
              "      <td>2.256641e+08</td>\n",
              "      <td>1.00</td>\n",
              "      <td>5.562163e+06</td>\n",
              "      <td>364000.0</td>\n",
              "      <td>3.037365e+07</td>\n",
              "      <td>9.225585e+14</td>\n",
              "      <td>-2.256640e+08</td>\n",
              "      <td>99.00</td>\n",
              "      <td>-5.562063e+06</td>\n",
              "      <td>-363900.0</td>\n",
              "      <td>-3.037355e+07</td>\n",
              "      <td>-9.225585e+14</td>\n",
              "    </tr>\n",
              "    <tr>\n",
              "      <th>pn_lot_2416734</th>\n",
              "      <td>0</td>\n",
              "      <td>44</td>\n",
              "      <td>100.0</td>\n",
              "      <td>6.0</td>\n",
              "      <td>10.0</td>\n",
              "      <td>703</td>\n",
              "      <td>4.605170</td>\n",
              "      <td>2.256641e+08</td>\n",
              "      <td>1.00</td>\n",
              "      <td>5.562163e+06</td>\n",
              "      <td>364000.0</td>\n",
              "      <td>3.037365e+07</td>\n",
              "      <td>9.225585e+14</td>\n",
              "      <td>-2.256640e+08</td>\n",
              "      <td>99.00</td>\n",
              "      <td>-5.562063e+06</td>\n",
              "      <td>-363900.0</td>\n",
              "      <td>-3.037355e+07</td>\n",
              "      <td>-9.225585e+14</td>\n",
              "    </tr>\n",
              "    <tr>\n",
              "      <th>pn_lot_1607958</th>\n",
              "      <td>0</td>\n",
              "      <td>44</td>\n",
              "      <td>100.0</td>\n",
              "      <td>6.0</td>\n",
              "      <td>10.0</td>\n",
              "      <td>689</td>\n",
              "      <td>4.605170</td>\n",
              "      <td>2.256641e+08</td>\n",
              "      <td>1.00</td>\n",
              "      <td>5.562163e+06</td>\n",
              "      <td>364000.0</td>\n",
              "      <td>3.037365e+07</td>\n",
              "      <td>9.225585e+14</td>\n",
              "      <td>-2.256640e+08</td>\n",
              "      <td>99.00</td>\n",
              "      <td>-5.562063e+06</td>\n",
              "      <td>-363900.0</td>\n",
              "      <td>-3.037355e+07</td>\n",
              "      <td>-9.225585e+14</td>\n",
              "    </tr>\n",
              "    <tr>\n",
              "      <th>pn_lot_8820511</th>\n",
              "      <td>0</td>\n",
              "      <td>44</td>\n",
              "      <td>100.0</td>\n",
              "      <td>6.0</td>\n",
              "      <td>10.0</td>\n",
              "      <td>680</td>\n",
              "      <td>4.605170</td>\n",
              "      <td>2.256641e+08</td>\n",
              "      <td>1.00</td>\n",
              "      <td>5.562163e+06</td>\n",
              "      <td>364000.0</td>\n",
              "      <td>3.037365e+07</td>\n",
              "      <td>9.225585e+14</td>\n",
              "      <td>-2.256640e+08</td>\n",
              "      <td>99.00</td>\n",
              "      <td>-5.562063e+06</td>\n",
              "      <td>-363900.0</td>\n",
              "      <td>-3.037355e+07</td>\n",
              "      <td>-9.225585e+14</td>\n",
              "    </tr>\n",
              "    <tr>\n",
              "      <th>pn_lot_2852669</th>\n",
              "      <td>0</td>\n",
              "      <td>44</td>\n",
              "      <td>25000.0</td>\n",
              "      <td>62.0</td>\n",
              "      <td>0.0</td>\n",
              "      <td>586</td>\n",
              "      <td>10.126631</td>\n",
              "      <td>1.500000e+10</td>\n",
              "      <td>2833.33</td>\n",
              "      <td>1.078556e+07</td>\n",
              "      <td>305978.8</td>\n",
              "      <td>1.694074e+08</td>\n",
              "      <td>2.869887e+16</td>\n",
              "      <td>-1.499998e+10</td>\n",
              "      <td>22166.67</td>\n",
              "      <td>-1.076056e+07</td>\n",
              "      <td>-280978.8</td>\n",
              "      <td>-1.693824e+08</td>\n",
              "      <td>-2.869887e+16</td>\n",
              "    </tr>\n",
              "  </tbody>\n",
              "</table>\n",
              "<p>778121 rows × 19 columns</p>\n",
              "</div>"
            ],
            "text/plain": [
              "                fz  region_code  ...  difference_std  difference_var\n",
              "pn_lot_anon                      ...                                \n",
              "pn_lot_7031618   0            2  ...   -1.672877e+07   -2.839989e+14\n",
              "pn_lot_7808247   0            2  ...   -3.616711e+07   -1.318497e+15\n",
              "pn_lot_7009496   0            2  ...   -3.618691e+07   -1.318497e+15\n",
              "pn_lot_5938735   0            2  ...   -3.665163e+08   -1.343708e+17\n",
              "pn_lot_9327348   0            2  ...   -3.581767e+07   -1.318497e+15\n",
              "...             ..          ...  ...             ...             ...\n",
              "pn_lot_2387328   0           44  ...   -3.037355e+07   -9.225585e+14\n",
              "pn_lot_2416734   0           44  ...   -3.037355e+07   -9.225585e+14\n",
              "pn_lot_1607958   0           44  ...   -3.037355e+07   -9.225585e+14\n",
              "pn_lot_8820511   0           44  ...   -3.037355e+07   -9.225585e+14\n",
              "pn_lot_2852669   0           44  ...   -1.693824e+08   -2.869887e+16\n",
              "\n",
              "[778121 rows x 19 columns]"
            ]
          },
          "metadata": {
            "tags": []
          },
          "execution_count": 43
        }
      ]
    },
    {
      "cell_type": "code",
      "metadata": {
        "id": "ixBsAm57VkC1",
        "colab": {
          "base_uri": "https://localhost:8080/",
          "height": 572
        },
        "outputId": "f309bfcd-cb47-4470-c497-1e462784967d"
      },
      "source": [
        "inn_kpp_history_train"
      ],
      "execution_count": 44,
      "outputs": [
        {
          "output_type": "execute_result",
          "data": {
            "text/html": [
              "<div>\n",
              "<style scoped>\n",
              "    .dataframe tbody tr th:only-of-type {\n",
              "        vertical-align: middle;\n",
              "    }\n",
              "\n",
              "    .dataframe tbody tr th {\n",
              "        vertical-align: top;\n",
              "    }\n",
              "\n",
              "    .dataframe thead th {\n",
              "        text-align: right;\n",
              "    }\n",
              "</style>\n",
              "<table border=\"1\" class=\"dataframe\">\n",
              "  <thead>\n",
              "    <tr style=\"text-align: right;\">\n",
              "      <th></th>\n",
              "      <th>participant_pn_lot_anon</th>\n",
              "      <th>list_participant_inn_kpp_anon</th>\n",
              "      <th>list_is_winner</th>\n",
              "      <th>list_fz</th>\n",
              "      <th>list_region_code</th>\n",
              "      <th>list_okpd2_main</th>\n",
              "    </tr>\n",
              "  </thead>\n",
              "  <tbody>\n",
              "    <tr>\n",
              "      <th>0</th>\n",
              "      <td>inn_kpp_1000018</td>\n",
              "      <td>[pn_lot_5330449, pn_lot_648665, pn_lot_81155, ...</td>\n",
              "      <td>[0, 0, 0, 1, 1, 1, 1, 1, 0, 0, 0, 1, 1, 1, 1, ...</td>\n",
              "      <td>[44fz, 44fz, 44fz, 44fz, 44fz, 44fz, 44fz, 44f...</td>\n",
              "      <td>[64, 50, 50, 77, 50, 64, 77, 77, 77, 77, 50, 7...</td>\n",
              "      <td>[58.0, 26.0, 26.0, 26.0, 26.0, 58.0, 26.0, 27....</td>\n",
              "    </tr>\n",
              "    <tr>\n",
              "      <th>1</th>\n",
              "      <td>inn_kpp_1001268</td>\n",
              "      <td>[pn_lot_7608031, pn_lot_9976372, pn_lot_671651...</td>\n",
              "      <td>[1, 1, 1, 1, 0, 0, 1, 0, 1, 1, 1, 1, 1, 0, 1, ...</td>\n",
              "      <td>[44fz, 44fz, 44fz, 44fz, 44fz, 44fz, 44fz, 44f...</td>\n",
              "      <td>[77, 79, 79, 79, 79, 27, 79, 79, 79, 79, 79, 7...</td>\n",
              "      <td>[86.0, 86.0, 86.0, 86.0, 86.0, 86.0, 86.0, 86....</td>\n",
              "    </tr>\n",
              "    <tr>\n",
              "      <th>2</th>\n",
              "      <td>inn_kpp_1002518</td>\n",
              "      <td>[pn_lot_5287076, pn_lot_7474816, pn_lot_121000...</td>\n",
              "      <td>[0, 0, 1, 1, 0, 0, 1, 1, 1, 0, 0, 1, 0, 0, 0, ...</td>\n",
              "      <td>[44fz, 44fz, 44fz, 44fz, 44fz, 44fz, 44fz, 44f...</td>\n",
              "      <td>[41, 27, 82, 65, 65, 65, 41, 41, 41, 41, 82, 4...</td>\n",
              "      <td>[30.0, 27.0, 27.0, 25.0, 30.0, 29.0, 25.0, 25....</td>\n",
              "    </tr>\n",
              "    <tr>\n",
              "      <th>3</th>\n",
              "      <td>inn_kpp_1003261</td>\n",
              "      <td>[pn_lot_2647783]</td>\n",
              "      <td>[1]</td>\n",
              "      <td>[223fz]</td>\n",
              "      <td>[54]</td>\n",
              "      <td>[28.0]</td>\n",
              "    </tr>\n",
              "    <tr>\n",
              "      <th>4</th>\n",
              "      <td>inn_kpp_1003291</td>\n",
              "      <td>[pn_lot_7794721, pn_lot_4767800, pn_lot_915979...</td>\n",
              "      <td>[0, 1, 1, 1, 1, 1, 1, 1, 1, 1, 1, 1, 1, 1, 0, ...</td>\n",
              "      <td>[44fz, 44fz, 44fz, 44fz, 44fz, 44fz, 44fz, 44f...</td>\n",
              "      <td>[50, 12, 50, 50, 51, 69, 11, 12, 11, 12, 12, 1...</td>\n",
              "      <td>[32.0, 32.0, 32.0, 32.0, 32.0, 32.0, 32.0, 21....</td>\n",
              "    </tr>\n",
              "    <tr>\n",
              "      <th>...</th>\n",
              "      <td>...</td>\n",
              "      <td>...</td>\n",
              "      <td>...</td>\n",
              "      <td>...</td>\n",
              "      <td>...</td>\n",
              "      <td>...</td>\n",
              "    </tr>\n",
              "    <tr>\n",
              "      <th>16485</th>\n",
              "      <td>inn_kpp_9996627</td>\n",
              "      <td>[pn_lot_7946989, pn_lot_945176, pn_lot_3503646...</td>\n",
              "      <td>[0, 0, 0, 0, 0, 0, 0, 0, 0, 0, 0, 0, 0, 0, 0, ...</td>\n",
              "      <td>[44fz, 44fz, 44fz, 223fz, 44fz, 44fz, 44fz, 44...</td>\n",
              "      <td>[66, 66, 66, 66, 66, 66, 66, 66, 66, 66, 66, 6...</td>\n",
              "      <td>[43.0, 43.0, 43.0, 43.0, 43.0, 42.0, 42.0, 43....</td>\n",
              "    </tr>\n",
              "    <tr>\n",
              "      <th>16486</th>\n",
              "      <td>inn_kpp_9997846</td>\n",
              "      <td>[pn_lot_4141328, pn_lot_6838981, pn_lot_4668669]</td>\n",
              "      <td>[1, 0, 0]</td>\n",
              "      <td>[44fz, 44fz, 44fz]</td>\n",
              "      <td>[5, 5, 5]</td>\n",
              "      <td>[42.0, 42.0, 42.0]</td>\n",
              "    </tr>\n",
              "    <tr>\n",
              "      <th>16487</th>\n",
              "      <td>inn_kpp_9997944</td>\n",
              "      <td>[pn_lot_274406, pn_lot_1371030, pn_lot_2180007...</td>\n",
              "      <td>[1, 1, 0, 0, 0, 0, 0, 0, 1, 0, 1, 0, 0, 0, 0, ...</td>\n",
              "      <td>[44fz, 44fz, 44fz, 44fz, 44fz, 44fz, 44fz, 44f...</td>\n",
              "      <td>[25, 25, 25, 25, 25, 25, 25, 25, 25, 65, 27, 2...</td>\n",
              "      <td>[41.0, 43.0, 43.0, 43.0, 43.0, 43.0, 42.0, 42....</td>\n",
              "    </tr>\n",
              "    <tr>\n",
              "      <th>16488</th>\n",
              "      <td>inn_kpp_9998925</td>\n",
              "      <td>[pn_lot_9101115, pn_lot_3771565, pn_lot_900669...</td>\n",
              "      <td>[0, 0, 0, 1, 0, 0, 0, 1, 0, 0, 0, 1, 1, 0, 0, ...</td>\n",
              "      <td>[44fz, 44fz, 44fz, 44fz, 223fz, 44fz, 44fz, 44...</td>\n",
              "      <td>[63, 63, 63, 63, 63, 63, 63, 63, 63, 63, 63, 6...</td>\n",
              "      <td>[43.0, 43.0, 42.0, 43.0, 8.0, 43.0, 42.0, 42.0...</td>\n",
              "    </tr>\n",
              "    <tr>\n",
              "      <th>16489</th>\n",
              "      <td>inn_kpp_9999743</td>\n",
              "      <td>[pn_lot_2667918, pn_lot_3757391, pn_lot_830544...</td>\n",
              "      <td>[0, 0, 0, 0, 0, 1, 1, 0, 0, 1, 0, 0, 0, 0, 0, ...</td>\n",
              "      <td>[44fz, 44fz, 44fz, 44fz, 44fz, 223fz, 223fz, 4...</td>\n",
              "      <td>[14, 14, 14, 40, 89, 14, 14, 14, 65, 14, 14, 1...</td>\n",
              "      <td>[85.0, 85.0, 85.0, 85.0, 85.0, 86.0, 71.0, 85....</td>\n",
              "    </tr>\n",
              "  </tbody>\n",
              "</table>\n",
              "<p>16490 rows × 6 columns</p>\n",
              "</div>"
            ],
            "text/plain": [
              "      participant_pn_lot_anon  ...                                    list_okpd2_main\n",
              "0             inn_kpp_1000018  ...  [58.0, 26.0, 26.0, 26.0, 26.0, 58.0, 26.0, 27....\n",
              "1             inn_kpp_1001268  ...  [86.0, 86.0, 86.0, 86.0, 86.0, 86.0, 86.0, 86....\n",
              "2             inn_kpp_1002518  ...  [30.0, 27.0, 27.0, 25.0, 30.0, 29.0, 25.0, 25....\n",
              "3             inn_kpp_1003261  ...                                             [28.0]\n",
              "4             inn_kpp_1003291  ...  [32.0, 32.0, 32.0, 32.0, 32.0, 32.0, 32.0, 21....\n",
              "...                       ...  ...                                                ...\n",
              "16485         inn_kpp_9996627  ...  [43.0, 43.0, 43.0, 43.0, 43.0, 42.0, 42.0, 43....\n",
              "16486         inn_kpp_9997846  ...                                 [42.0, 42.0, 42.0]\n",
              "16487         inn_kpp_9997944  ...  [41.0, 43.0, 43.0, 43.0, 43.0, 43.0, 42.0, 42....\n",
              "16488         inn_kpp_9998925  ...  [43.0, 43.0, 42.0, 43.0, 8.0, 43.0, 42.0, 42.0...\n",
              "16489         inn_kpp_9999743  ...  [85.0, 85.0, 85.0, 85.0, 85.0, 86.0, 71.0, 85....\n",
              "\n",
              "[16490 rows x 6 columns]"
            ]
          },
          "metadata": {
            "tags": []
          },
          "execution_count": 44
        }
      ]
    },
    {
      "cell_type": "markdown",
      "metadata": {
        "id": "29WOFZZwSR3G"
      },
      "source": [
        "# Новый раздел"
      ]
    },
    {
      "cell_type": "code",
      "metadata": {
        "id": "yg9uDx4ggVse"
      },
      "source": [
        "answer = []\r\n",
        "errors = []"
      ],
      "execution_count": 45,
      "outputs": []
    },
    {
      "cell_type": "code",
      "metadata": {
        "id": "B4mNZlITEfi4",
        "colab": {
          "base_uri": "https://localhost:8080/"
        },
        "outputId": "74732f1b-b69c-4595-820d-e1ddded225d3"
      },
      "source": [
        "start = time.time()\r\n",
        "for i in range(froms,tos+1): #поставить свои значения\r\n",
        "  print(i)\r\n",
        "  stroka = inn_kpp_history_train.iloc[i]\r\n",
        "  region_code_list = list(set(stroka[4]))\r\n",
        "  okpd2_list = list(set(stroka[5]))\r\n",
        "\r\n",
        "  data_of_inn = pd.DataFrame(index=pn_lots,columns=[stroka[0]])\r\n",
        "  for j in stroka[1]:\r\n",
        "    data_of_inn.loc[j,stroka[0]]=1\r\n",
        "    \r\n",
        "  data_of_inn = data_of_inn.fillna(0)\r\n",
        "  data_of_inn = data_of_inn.reset_index()\r\n",
        "  data_of_inn = data_of_inn.rename({'index':'pn_lot_anon'}, axis=1) # data_of_inn  - y     features_train - x\r\n",
        "  DATA_ALL = pd.merge(features_train, data_of_inn, on=['pn_lot_anon'])\r\n",
        "  DATA_ALL = DATA_ALL.set_index('pn_lot_anon')\r\n",
        "\r\n",
        "\r\n",
        "  DATA_TMP = DATA_ALL\r\n",
        "  DATA_TMP = DATA_TMP[[i in okpd2_list for i in DATA_TMP['okpd2_main']]]\r\n",
        "  DATA_TMP = DATA_TMP[[i in region_code_list for i in DATA_TMP['region_code']] ]\r\n",
        "  if(len(DATA_TMP.index.tolist())<70):\r\n",
        "      DATA_TMP = DATA_ALL\r\n",
        "      DATA_TMP = DATA_TMP[[i in okpd2_list for i in DATA_TMP['okpd2_main']]]\r\n",
        "  if(len(DATA_TMP.index.tolist())<70):\r\n",
        "      DATA_TMP = DATA_ALL\r\n",
        "      DATA_TMP = DATA_TMP[[i in region_code_list for i in DATA_TMP['region_code']] ]\r\n",
        "  if(len(DATA_TMP.index.tolist())<70 or (len(region_code_list)==1 or len(okpd2_list)==1)):\r\n",
        "      DATA_TMP = DATA_ALL\r\n",
        "  DATA_ALL = DATA_TMP\r\n",
        "\r\n",
        "\r\n",
        "\r\n",
        "  trainings_data, testings_data = sklearn.model_selection.train_test_split(DATA_ALL)\r\n",
        "  #трейнинг чтоб обучалось\r\n",
        "  y_training=trainings_data[stroka[0]]\r\n",
        "  X_training=trainings_data[['fz','region_code','lot_price','okpd2_main','log_price','okpd2_second','data_delta','maximum','minimum','mean','median','std','var','difference_maximum','difference_minimum','difference_mean','difference_median','difference_std','difference_var']]\r\n",
        "  #тестинг чтоб тестилось\r\n",
        "  y_testing=testings_data[stroka[0]]\r\n",
        "  X_testing=testings_data[['fz','region_code','lot_price','okpd2_main','log_price','okpd2_second','data_delta','maximum','minimum','mean','median','std','var','difference_maximum','difference_minimum','difference_mean','difference_median','difference_std','difference_var']]\r\n",
        "  #тест для решения\r\n",
        "  X_test=features_test\r\n",
        "  X_test = X_test[[i in okpd2_list for i in X_test['okpd2_main']]]\r\n",
        "  X_test = X_test[[i in region_code_list for i in X_test['region_code']]]\r\n",
        "  if(len(X_test.index.tolist())<35):\r\n",
        "      X_test=features_test\r\n",
        "      X_test = X_test[[i in okpd2_list for i in X_test['okpd2_main']]]\r\n",
        "  if(len(X_test.index.tolist())<35):\r\n",
        "      X_test=features_test\r\n",
        "      X_test = X_test[[i in okpd2_list for i in X_test['region_code']]]\r\n",
        "  if(len(X_test.index.tolist())<35 or (len(region_code_list)==1 or len(okpd2_list)==1)):\r\n",
        "      X_test=features_test\r\n",
        "  #тренировка ИИ\r\n",
        "\r\n",
        "\r\n",
        "\r\n",
        "  try:\r\n",
        "    train_pool = Pool(data=X_training, label=y_training)\r\n",
        "    eval_pool = Pool(data=X_testing,label=y_testing)\r\n",
        "    rnd = random.randint(1, 10000000)\r\n",
        "    catboost_params = {\r\n",
        "        'learning_rate' : 0.1,\r\n",
        "        'max_depth' : 3,\r\n",
        "        'iterations': 500,\r\n",
        "        'task_type' : \"GPU\",\r\n",
        "        'eval_metric': 'Recall',\r\n",
        "        'verbose' : 0,\r\n",
        "        'random_seed': rnd\r\n",
        "    }\r\n",
        "    model = CatBoostClassifier(**catboost_params)\r\n",
        "    model = model.fit(train_pool,eval_set=eval_pool)\r\n",
        "  except:\r\n",
        "    try:\r\n",
        "        train_pool = Pool(data=DATA_ALL[['fz','region_code','lot_price','okpd2_main','log_price','maximum','minimum','mean','median','difference_maximum','difference_minimum','difference_mean','difference_median']], label=DATA_ALL[stroka[0]])\r\n",
        "        rnd = random.randint(1, 10000000)\r\n",
        "        catboost_params = {\r\n",
        "            'learning_rate' : 0.1,\r\n",
        "            'max_depth' : 3,\r\n",
        "            'iterations': 500,\r\n",
        "            'eval_metric': 'Recall',\r\n",
        "            'task_type' : \"GPU\",\r\n",
        "            'verbose' : 0,\r\n",
        "            'random_seed': rnd\r\n",
        "        }\r\n",
        "        model = CatBoostClassifier(**catboost_params)\r\n",
        "        model = model.fit(train_pool)\r\n",
        "    except:\r\n",
        "        errors.append(inn_kpp_history_train['participant_pn_lot_anon'][i])\r\n",
        "        continue\r\n",
        "\r\n",
        "  ##### резы теста\r\n",
        "  name_of_lots = X_test.index.tolist()\r\n",
        "  pred=model.predict_proba(X_test)\r\n",
        "\r\n",
        "  k = 0\r\n",
        "  pairs = []\r\n",
        "  for j in pred:\r\n",
        "    pair = [j[1],k]\r\n",
        "    pairs.append(pair)\r\n",
        "    k+=1\r\n",
        "  pairs.sort(key=lambda x: x[0])\r\n",
        "  print(inn_kpp_history_train['participant_pn_lot_anon'][i],i)\r\n",
        "  for j in range(1,35+1):\r\n",
        "    answer.append({\r\n",
        "        'inn_kpp': inn_kpp_history_train['participant_pn_lot_anon'][i],\r\n",
        "        'actual_recommended_pn_lot': name_of_lots[pairs[-j][1]],\r\n",
        "        'similarity_score': pairs[-j][0]\r\n",
        "    })\r\n",
        "print(time.time()-start) #подсчет времени"
      ],
      "execution_count": null,
      "outputs": [
        {
          "output_type": "stream",
          "text": [
            "6000\n",
            "inn_kpp_4292189 6000\n",
            "6001\n",
            "inn_kpp_4293016 6001\n",
            "6002\n",
            "inn_kpp_4293386 6002\n",
            "6003\n",
            "inn_kpp_4293669 6003\n",
            "6004\n",
            "inn_kpp_4294544 6004\n",
            "6005\n",
            "inn_kpp_429474 6005\n",
            "6006\n",
            "inn_kpp_429515 6006\n",
            "6007\n",
            "inn_kpp_429532 6007\n",
            "6008\n",
            "inn_kpp_4295856 6008\n",
            "6009\n",
            "inn_kpp_4296223 6009\n",
            "6010\n",
            "inn_kpp_4296479 6010\n",
            "6011\n",
            "inn_kpp_4297299 6011\n",
            "6012\n",
            "inn_kpp_4298542 6012\n",
            "6013\n",
            "inn_kpp_4299084 6013\n",
            "6014\n",
            "inn_kpp_4299559 6014\n",
            "6015\n",
            "inn_kpp_4301975 6015\n",
            "6016\n",
            "inn_kpp_4302180 6016\n",
            "6017\n",
            "inn_kpp_4302194 6017\n",
            "6018\n",
            "inn_kpp_4302405 6018\n",
            "6019\n",
            "inn_kpp_4302830 6019\n",
            "6020\n",
            "inn_kpp_4302961 6020\n",
            "6021\n",
            "inn_kpp_430541 6021\n",
            "6022\n",
            "inn_kpp_4306099 6022\n",
            "6023\n",
            "inn_kpp_4306680 6023\n",
            "6024\n",
            "inn_kpp_4307607 6024\n",
            "6025\n",
            "inn_kpp_4307867 6025\n",
            "6026\n",
            "inn_kpp_4308195 6026\n",
            "6027\n",
            "inn_kpp_4308211 6027\n",
            "6028\n",
            "inn_kpp_4308263 6028\n",
            "6029\n",
            "inn_kpp_4308422 6029\n",
            "6030\n",
            "inn_kpp_4308662 6030\n",
            "6031\n",
            "inn_kpp_4309559 6031\n",
            "6032\n",
            "inn_kpp_4309774 6032\n",
            "6033\n",
            "inn_kpp_4309829 6033\n",
            "6034\n",
            "inn_kpp_4310 6034\n",
            "6035\n",
            "inn_kpp_4310075 6035\n",
            "6036\n",
            "inn_kpp_4310254 6036\n",
            "6037\n",
            "inn_kpp_4310260 6037\n",
            "6038\n",
            "inn_kpp_4310701 6038\n",
            "6039\n",
            "inn_kpp_4311326 6039\n",
            "6040\n",
            "inn_kpp_4311465 6040\n",
            "6041\n",
            "inn_kpp_431193 6041\n",
            "6042\n",
            "inn_kpp_4312382 6042\n",
            "6043\n",
            "inn_kpp_4312805 6043\n",
            "6044\n",
            "inn_kpp_4312855 6044\n",
            "6045\n",
            "inn_kpp_4313247 6045\n",
            "6046\n",
            "inn_kpp_4313673 6046\n",
            "6047\n",
            "inn_kpp_4314944 6047\n",
            "6048\n",
            "inn_kpp_4316552 6048\n",
            "6049\n",
            "inn_kpp_4316628 6049\n",
            "6050\n",
            "inn_kpp_4316635 6050\n",
            "6051\n",
            "inn_kpp_431690 6051\n",
            "6052\n",
            "inn_kpp_4317543 6052\n",
            "6053\n",
            "inn_kpp_4318664 6053\n",
            "6054\n",
            "inn_kpp_4318900 6054\n",
            "6055\n",
            "inn_kpp_4319499 6055\n",
            "6056\n",
            "inn_kpp_432009 6056\n",
            "6057\n",
            "inn_kpp_4320235 6057\n",
            "6058\n",
            "inn_kpp_4320390 6058\n",
            "6059\n",
            "inn_kpp_4320394 6059\n",
            "6060\n",
            "inn_kpp_4321081 6060\n",
            "6061\n",
            "inn_kpp_4321278 6061\n",
            "6062\n",
            "inn_kpp_4321626 6062\n",
            "6063\n",
            "inn_kpp_4323025 6063\n",
            "6064\n",
            "inn_kpp_4323516 6064\n",
            "6065\n",
            "inn_kpp_432449 6065\n",
            "6066\n",
            "inn_kpp_4325321 6066\n",
            "6067\n",
            "inn_kpp_4325619 6067\n",
            "6068\n",
            "inn_kpp_4327263 6068\n",
            "6069\n",
            "inn_kpp_432744 6069\n",
            "6070\n",
            "inn_kpp_4329914 6070\n",
            "6071\n",
            "inn_kpp_4330511 6071\n",
            "6072\n",
            "inn_kpp_433067 6072\n",
            "6073\n",
            "inn_kpp_4331390 6073\n",
            "6074\n",
            "inn_kpp_4331544 6074\n",
            "6075\n",
            "inn_kpp_4332214 6075\n",
            "6076\n",
            "inn_kpp_4332379 6076\n",
            "6077\n",
            "inn_kpp_433284 6077\n",
            "6078\n",
            "inn_kpp_4335096 6078\n",
            "6079\n",
            "inn_kpp_4335496 6079\n",
            "6080\n",
            "inn_kpp_4336294 6080\n",
            "6081\n",
            "inn_kpp_4336670 6081\n",
            "6082\n",
            "inn_kpp_4337124 6082\n",
            "6083\n",
            "inn_kpp_4337226 6083\n",
            "6084\n",
            "inn_kpp_4337525 6084\n",
            "6085\n",
            "inn_kpp_4337943 6085\n",
            "6086\n",
            "inn_kpp_4338001 6086\n",
            "6087\n",
            "inn_kpp_4338368 6087\n",
            "6088\n",
            "inn_kpp_4338450 6088\n",
            "6089\n",
            "inn_kpp_4338452 6089\n",
            "6090\n",
            "inn_kpp_4338461 6090\n",
            "6091\n",
            "inn_kpp_4339320 6091\n",
            "6092\n",
            "inn_kpp_4339525 6092\n",
            "6093\n",
            "inn_kpp_4339698 6093\n",
            "6094\n",
            "inn_kpp_4340404 6094\n",
            "6095\n",
            "inn_kpp_4340513 6095\n",
            "6096\n",
            "inn_kpp_4341138 6096\n",
            "6097\n",
            "inn_kpp_4341679 6097\n",
            "6098\n",
            "inn_kpp_434171 6098\n",
            "6099\n",
            "inn_kpp_434230 6099\n",
            "6100\n",
            "inn_kpp_4343080 6100\n",
            "6101\n",
            "inn_kpp_4343546 6101\n",
            "6102\n",
            "inn_kpp_4343631 6102\n",
            "6103\n",
            "inn_kpp_4346297 6103\n",
            "6104\n",
            "inn_kpp_4346395 6104\n",
            "6105\n",
            "inn_kpp_4347975 6105\n",
            "6106\n",
            "inn_kpp_4348050 6106\n",
            "6107\n",
            "inn_kpp_434829 6107\n",
            "6108\n",
            "inn_kpp_4348324 6108\n",
            "6109\n",
            "inn_kpp_4348451 6109\n",
            "6110\n",
            "inn_kpp_4349354 6110\n",
            "6111\n",
            "inn_kpp_4350224 6111\n",
            "6112\n",
            "inn_kpp_4351461 6112\n",
            "6113\n",
            "inn_kpp_4351753 6113\n",
            "6114\n",
            "inn_kpp_435368 6114\n",
            "6115\n",
            "inn_kpp_435374 6115\n",
            "6116\n",
            "inn_kpp_4354141 6116\n",
            "6117\n",
            "inn_kpp_4354317 6117\n",
            "6118\n",
            "inn_kpp_4354576 6118\n",
            "6119\n",
            "inn_kpp_4354636 6119\n",
            "6120\n",
            "inn_kpp_4354645 6120\n",
            "6121\n",
            "inn_kpp_4355257 6121\n",
            "6122\n",
            "inn_kpp_435535 6122\n",
            "6123\n",
            "inn_kpp_4355490 6123\n",
            "6124\n",
            "inn_kpp_435564 6124\n",
            "6125\n",
            "inn_kpp_435645 6125\n",
            "6126\n",
            "inn_kpp_4356526 6126\n",
            "6127\n",
            "inn_kpp_4356697 6127\n",
            "6128\n",
            "inn_kpp_4357640 6128\n",
            "6129\n",
            "inn_kpp_4358503 6129\n",
            "6130\n",
            "inn_kpp_4358665 6130\n",
            "6131\n",
            "inn_kpp_4358758 6131\n",
            "6132\n",
            "inn_kpp_4358980 6132\n",
            "6133\n",
            "inn_kpp_4359409 6133\n",
            "6134\n",
            "inn_kpp_4359602 6134\n",
            "6135\n",
            "inn_kpp_4359702 6135\n",
            "6136\n",
            "inn_kpp_4362349 6136\n",
            "6137\n",
            "inn_kpp_4362357 6137\n",
            "6138\n",
            "inn_kpp_4362662 6138\n",
            "6139\n",
            "inn_kpp_4363169 6139\n",
            "6140\n",
            "inn_kpp_4365042 6140\n",
            "6141\n",
            "inn_kpp_436556 6141\n",
            "6142\n",
            "inn_kpp_4366715 6142\n",
            "6143\n",
            "inn_kpp_4368799 6143\n",
            "6144\n",
            "inn_kpp_4369649 6144\n",
            "6145\n",
            "inn_kpp_4369875 6145\n",
            "6146\n",
            "inn_kpp_437111 6146\n",
            "6147\n",
            "inn_kpp_4371548 6147\n",
            "6148\n",
            "inn_kpp_4371562 6148\n",
            "6149\n",
            "inn_kpp_4372372 6149\n",
            "6150\n",
            "inn_kpp_4373596 6150\n",
            "6151\n",
            "inn_kpp_4373711 6151\n",
            "6152\n",
            "inn_kpp_4374065 6152\n",
            "6153\n",
            "inn_kpp_43742 6153\n",
            "6154\n",
            "inn_kpp_4375391 6154\n",
            "6155\n",
            "inn_kpp_437580 6155\n",
            "6156\n",
            "inn_kpp_4376026 6156\n",
            "6157\n",
            "inn_kpp_4376291 6157\n",
            "6158\n",
            "inn_kpp_4376694 6158\n",
            "6159\n",
            "inn_kpp_4377 6159\n",
            "6160\n",
            "inn_kpp_4377024 6160\n",
            "6161\n",
            "inn_kpp_4377415 6161\n",
            "6162\n",
            "inn_kpp_437848 6162\n",
            "6163\n",
            "inn_kpp_4378596 6163\n",
            "6164\n",
            "inn_kpp_4378645 6164\n",
            "6165\n",
            "inn_kpp_43787 6165\n",
            "6166\n",
            "inn_kpp_4378962 6166\n",
            "6167\n",
            "inn_kpp_4379053 6167\n",
            "6168\n",
            "inn_kpp_4379715 6168\n",
            "6169\n",
            "inn_kpp_4379831 6169\n",
            "6170\n",
            "inn_kpp_4380683 6170\n",
            "6171\n",
            "inn_kpp_4381056 6171\n",
            "6172\n",
            "inn_kpp_4381169 6172\n",
            "6173\n",
            "inn_kpp_4381360 6173\n",
            "6174\n",
            "inn_kpp_4381757 6174\n",
            "6175\n",
            "inn_kpp_4382787 6175\n",
            "6176\n",
            "inn_kpp_4384123 6176\n",
            "6177\n",
            "inn_kpp_4384229 6177\n",
            "6178\n",
            "inn_kpp_4384352 6178\n",
            "6179\n",
            "inn_kpp_4385075 6179\n",
            "6180\n",
            "inn_kpp_4385965 6180\n",
            "6181\n",
            "inn_kpp_4386546 6181\n",
            "6182\n",
            "inn_kpp_4386947 6182\n",
            "6183\n",
            "inn_kpp_4387159 6183\n",
            "6184\n",
            "inn_kpp_4389377 6184\n",
            "6185\n",
            "inn_kpp_4389804 6185\n",
            "6186\n",
            "inn_kpp_4391772 6186\n",
            "6187\n",
            "inn_kpp_4391917 6187\n",
            "6188\n",
            "inn_kpp_4392818 6188\n",
            "6189\n",
            "inn_kpp_439316 6189\n",
            "6190\n",
            "inn_kpp_439340 6190\n",
            "6191\n",
            "inn_kpp_4394455 6191\n",
            "6192\n",
            "inn_kpp_4394689 6192\n",
            "6193\n",
            "inn_kpp_4394764 6193\n",
            "6194\n",
            "inn_kpp_4395664 6194\n",
            "6195\n",
            "inn_kpp_4395930 6195\n",
            "6196\n",
            "inn_kpp_4396669 6196\n",
            "6197\n",
            "inn_kpp_4396765 6197\n",
            "6198\n",
            "inn_kpp_4396925 6198\n",
            "6199\n",
            "inn_kpp_4397429 6199\n",
            "6200\n",
            "inn_kpp_4398613 6200\n",
            "6201\n",
            "inn_kpp_4399514 6201\n",
            "6202\n",
            "inn_kpp_4399895 6202\n",
            "6203\n",
            "inn_kpp_4400325 6203\n",
            "6204\n",
            "inn_kpp_4400722 6204\n",
            "6205\n",
            "inn_kpp_4400947 6205\n",
            "6206\n",
            "inn_kpp_4402518 6206\n",
            "6207\n",
            "inn_kpp_4402713 6207\n",
            "6208\n",
            "inn_kpp_4403055 6208\n",
            "6209\n",
            "inn_kpp_4403114 6209\n",
            "6210\n",
            "inn_kpp_4403162 6210\n",
            "6211\n",
            "inn_kpp_4403823 6211\n",
            "6212\n",
            "inn_kpp_4404094 6212\n",
            "6213\n",
            "inn_kpp_4404336 6213\n",
            "6214\n",
            "inn_kpp_4404488 6214\n",
            "6215\n",
            "inn_kpp_4405136 6215\n",
            "6216\n",
            "inn_kpp_440576 6216\n",
            "6217\n",
            "inn_kpp_4406090 6217\n",
            "6218\n",
            "inn_kpp_4406588 6218\n",
            "6219\n",
            "inn_kpp_4406749 6219\n",
            "6220\n",
            "inn_kpp_4407853 6220\n",
            "6221\n",
            "inn_kpp_4408273 6221\n",
            "6222\n",
            "inn_kpp_4408455 6222\n",
            "6223\n",
            "inn_kpp_4408796 6223\n",
            "6224\n",
            "inn_kpp_4408878 6224\n",
            "6225\n",
            "inn_kpp_4409897 6225\n",
            "6226\n",
            "inn_kpp_4410338 6226\n",
            "6227\n",
            "inn_kpp_4412026 6227\n",
            "6228\n",
            "inn_kpp_4413674 6228\n",
            "6229\n",
            "inn_kpp_441459 6229\n",
            "6230\n",
            "inn_kpp_4415584 6230\n",
            "6231\n",
            "inn_kpp_4415862 6231\n",
            "6232\n",
            "inn_kpp_441612 6232\n",
            "6233\n",
            "inn_kpp_4417302 6233\n",
            "6234\n",
            "inn_kpp_4417358 6234\n",
            "6235\n",
            "inn_kpp_4417531 6235\n",
            "6236\n",
            "inn_kpp_441851 6236\n",
            "6237\n",
            "inn_kpp_4418794 6237\n",
            "6238\n",
            "inn_kpp_4419381 6238\n",
            "6239\n",
            "inn_kpp_4421000 6239\n",
            "6240\n",
            "inn_kpp_4421206 6240\n",
            "6241\n",
            "inn_kpp_4422138 6241\n",
            "6242\n"
          ],
          "name": "stdout"
        }
      ]
    },
    {
      "cell_type": "code",
      "metadata": {
        "id": "1AyiRLyihP8f"
      },
      "source": [
        "import csv\r\n",
        "with open('org.csv', 'w', newline=\"\") as file:\r\n",
        "    writer = csv.writer(file, delimiter=';')\r\n",
        "    writer.writerow(['inn_kpp,actual_recommended_pn_lot,similarity_score'])\r\n",
        "    for one_answer in answer:\r\n",
        "      writer.writerow([one_answer['inn_kpp'],one_answer['actual_recommended_pn_lot'],one_answer['similarity_score']])"
      ],
      "execution_count": null,
      "outputs": []
    },
    {
      "cell_type": "markdown",
      "metadata": {
        "id": "-ipHfVGIma7N"
      },
      "source": [
        "# Новый раздел"
      ]
    },
    {
      "cell_type": "markdown",
      "metadata": {
        "id": "9RB8HymsjALQ"
      },
      "source": [
        "# **КОНЕЦ**"
      ]
    },
    {
      "cell_type": "markdown",
      "metadata": {
        "id": "mLvE-vlbYEb8"
      },
      "source": [
        "# Новый раздел"
      ]
    },
    {
      "cell_type": "markdown",
      "metadata": {
        "id": "REikkfvAYTFm"
      },
      "source": [
        "# Новый раздел"
      ]
    },
    {
      "cell_type": "markdown",
      "metadata": {
        "id": "DvlACtl-Yhvd"
      },
      "source": [
        "# Новый раздел"
      ]
    },
    {
      "cell_type": "markdown",
      "metadata": {
        "id": "TINbUAWeYwYd"
      },
      "source": [
        "# Новый раздел"
      ]
    },
    {
      "cell_type": "markdown",
      "metadata": {
        "id": "2aQ4n-1PY_B9"
      },
      "source": [
        "# Новый раздел"
      ]
    },
    {
      "cell_type": "markdown",
      "metadata": {
        "id": "BwRjQlcDZNrc"
      },
      "source": [
        "# Новый раздел"
      ]
    },
    {
      "cell_type": "markdown",
      "metadata": {
        "id": "o-bsvzRFiiHb"
      },
      "source": [
        "# Новый раздел"
      ]
    },
    {
      "cell_type": "markdown",
      "metadata": {
        "id": "3RI1qAwhiww0"
      },
      "source": [
        "# Новый раздел"
      ]
    },
    {
      "cell_type": "markdown",
      "metadata": {
        "id": "fjFYoceOi_aU"
      },
      "source": [
        "# Новый раздел"
      ]
    },
    {
      "cell_type": "markdown",
      "metadata": {
        "id": "42A9HzLOjOD3"
      },
      "source": [
        "# Новый раздел"
      ]
    },
    {
      "cell_type": "markdown",
      "metadata": {
        "id": "2IazF-QojctU"
      },
      "source": [
        "# Новый раздел"
      ]
    },
    {
      "cell_type": "markdown",
      "metadata": {
        "id": "fo341rbcjrW1"
      },
      "source": [
        "# Новый раздел"
      ]
    },
    {
      "cell_type": "markdown",
      "metadata": {
        "id": "rU-bN590j-KD"
      },
      "source": [
        "# Новый раздел"
      ]
    },
    {
      "cell_type": "markdown",
      "metadata": {
        "id": "P-PYpmaYkL1_"
      },
      "source": [
        "# Новый раздел"
      ]
    },
    {
      "cell_type": "markdown",
      "metadata": {
        "id": "guIAMDeTkXTV"
      },
      "source": [
        "# Новый раздел"
      ]
    },
    {
      "cell_type": "markdown",
      "metadata": {
        "id": "zXrwkg7rklvH"
      },
      "source": [
        "# Новый раздел"
      ]
    },
    {
      "cell_type": "markdown",
      "metadata": {
        "id": "DkeYVkYfk0mW"
      },
      "source": [
        "# Новый раздел"
      ]
    },
    {
      "cell_type": "markdown",
      "metadata": {
        "id": "lkKvfcy1lDP8"
      },
      "source": [
        "# Новый раздел"
      ]
    },
    {
      "cell_type": "markdown",
      "metadata": {
        "id": "8f_R_LKelRsG"
      },
      "source": [
        "# Новый раздел"
      ]
    },
    {
      "cell_type": "markdown",
      "metadata": {
        "id": "WVj7OBt7lgi0"
      },
      "source": [
        "# Новый раздел"
      ]
    },
    {
      "cell_type": "markdown",
      "metadata": {
        "id": "TPwNo9tHlvMV"
      },
      "source": [
        "# Новый раздел"
      ]
    },
    {
      "cell_type": "markdown",
      "metadata": {
        "id": "TGsVoKcUl9oH"
      },
      "source": [
        "# Новый раздел"
      ]
    },
    {
      "cell_type": "markdown",
      "metadata": {
        "id": "P4E5lvpHmMRn"
      },
      "source": [
        "# Новый раздел"
      ]
    },
    {
      "cell_type": "markdown",
      "metadata": {
        "id": "ubB4zRw1ZcU9"
      },
      "source": [
        "# Новый раздел"
      ]
    },
    {
      "cell_type": "markdown",
      "metadata": {
        "id": "5gBORvKaZq-c"
      },
      "source": [
        "# Новый раздел"
      ]
    },
    {
      "cell_type": "markdown",
      "metadata": {
        "id": "CGXwjjv4Z5n9"
      },
      "source": [
        "# Новый раздел"
      ]
    },
    {
      "cell_type": "markdown",
      "metadata": {
        "id": "nVBmOMymaIRc"
      },
      "source": [
        "# Новый раздел"
      ]
    },
    {
      "cell_type": "markdown",
      "metadata": {
        "id": "jabZReVaaW7K"
      },
      "source": [
        "# Новый раздел"
      ]
    },
    {
      "cell_type": "markdown",
      "metadata": {
        "id": "UoWIzR_Nalkc"
      },
      "source": [
        "# Новый раздел"
      ]
    },
    {
      "cell_type": "markdown",
      "metadata": {
        "id": "0tztucdCav2m"
      },
      "source": [
        "# Новый раздел"
      ]
    }
  ]
}